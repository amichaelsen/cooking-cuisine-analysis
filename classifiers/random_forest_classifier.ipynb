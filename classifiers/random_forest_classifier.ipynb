{
 "cells": [
  {
   "cell_type": "markdown",
   "id": "3f5496d1",
   "metadata": {},
   "source": [
    "# Random Forest Classifier \n",
    "\n",
    "This notebook explores the performance of the Random Forest Classification Model. "
   ]
  },
  {
   "cell_type": "markdown",
   "id": "05038228",
   "metadata": {},
   "source": [
    "First we import and load the data"
   ]
  },
  {
   "cell_type": "code",
   "execution_count": 1,
   "id": "53e092e5",
   "metadata": {},
   "outputs": [],
   "source": [
    "import numpy as np\n",
    "import pandas as pd\n",
    "\n",
    "from sklearn.model_selection import train_test_split\n",
    "from sklearn.tree import DecisionTreeClassifier\n",
    "from sklearn.ensemble import RandomForestClassifier"
   ]
  },
  {
   "cell_type": "code",
   "execution_count": 2,
   "id": "0ccb49fb",
   "metadata": {},
   "outputs": [],
   "source": [
    "train_data = pd.read_csv(\"../data/ohe_train_recipes_v2.csv\",index_col=\"id\")\n",
    "train_data_tfidf = pd.read_csv(\"../data/tfidf_train_recipes_v2.csv\",index_col=\"id\")"
   ]
  },
  {
   "cell_type": "code",
   "execution_count": 3,
   "id": "612b3c10",
   "metadata": {},
   "outputs": [
    {
     "data": {
      "text/html": [
       "<div>\n",
       "<style scoped>\n",
       "    .dataframe tbody tr th:only-of-type {\n",
       "        vertical-align: middle;\n",
       "    }\n",
       "\n",
       "    .dataframe tbody tr th {\n",
       "        vertical-align: top;\n",
       "    }\n",
       "\n",
       "    .dataframe thead th {\n",
       "        text-align: right;\n",
       "    }\n",
       "</style>\n",
       "<table border=\"1\" class=\"dataframe\">\n",
       "  <thead>\n",
       "    <tr style=\"text-align: right;\">\n",
       "      <th></th>\n",
       "      <th>1% buttermilk</th>\n",
       "      <th>1% chocolate milk</th>\n",
       "      <th>1% cottage cheese</th>\n",
       "      <th>1% milk</th>\n",
       "      <th>2 1/2 to 3 lb. chicken, cut into serving pieces</th>\n",
       "      <th>2% cottage cheese</th>\n",
       "      <th>2% low fat cheddar chees</th>\n",
       "      <th>2% lowfat greek yogurt</th>\n",
       "      <th>2% milk mozzarella cheese</th>\n",
       "      <th>2% reduced-fat milk</th>\n",
       "      <th>...</th>\n",
       "      <th>yuzu</th>\n",
       "      <th>yuzu juice</th>\n",
       "      <th>za'atar</th>\n",
       "      <th>zest</th>\n",
       "      <th>zesty italian dressing</th>\n",
       "      <th>zinfandel</th>\n",
       "      <th>ziti</th>\n",
       "      <th>zucchini</th>\n",
       "      <th>zucchini blossoms</th>\n",
       "      <th>cuisine</th>\n",
       "    </tr>\n",
       "    <tr>\n",
       "      <th>id</th>\n",
       "      <th></th>\n",
       "      <th></th>\n",
       "      <th></th>\n",
       "      <th></th>\n",
       "      <th></th>\n",
       "      <th></th>\n",
       "      <th></th>\n",
       "      <th></th>\n",
       "      <th></th>\n",
       "      <th></th>\n",
       "      <th></th>\n",
       "      <th></th>\n",
       "      <th></th>\n",
       "      <th></th>\n",
       "      <th></th>\n",
       "      <th></th>\n",
       "      <th></th>\n",
       "      <th></th>\n",
       "      <th></th>\n",
       "      <th></th>\n",
       "      <th></th>\n",
       "    </tr>\n",
       "  </thead>\n",
       "  <tbody>\n",
       "    <tr>\n",
       "      <th>0</th>\n",
       "      <td>0</td>\n",
       "      <td>0</td>\n",
       "      <td>0</td>\n",
       "      <td>0</td>\n",
       "      <td>0</td>\n",
       "      <td>0</td>\n",
       "      <td>0</td>\n",
       "      <td>0</td>\n",
       "      <td>0</td>\n",
       "      <td>0</td>\n",
       "      <td>...</td>\n",
       "      <td>0</td>\n",
       "      <td>0</td>\n",
       "      <td>0</td>\n",
       "      <td>0</td>\n",
       "      <td>0</td>\n",
       "      <td>0</td>\n",
       "      <td>0</td>\n",
       "      <td>0</td>\n",
       "      <td>0</td>\n",
       "      <td>spanish</td>\n",
       "    </tr>\n",
       "    <tr>\n",
       "      <th>1</th>\n",
       "      <td>0</td>\n",
       "      <td>0</td>\n",
       "      <td>0</td>\n",
       "      <td>0</td>\n",
       "      <td>0</td>\n",
       "      <td>0</td>\n",
       "      <td>0</td>\n",
       "      <td>0</td>\n",
       "      <td>0</td>\n",
       "      <td>0</td>\n",
       "      <td>...</td>\n",
       "      <td>0</td>\n",
       "      <td>0</td>\n",
       "      <td>0</td>\n",
       "      <td>0</td>\n",
       "      <td>0</td>\n",
       "      <td>0</td>\n",
       "      <td>0</td>\n",
       "      <td>0</td>\n",
       "      <td>0</td>\n",
       "      <td>mexican</td>\n",
       "    </tr>\n",
       "  </tbody>\n",
       "</table>\n",
       "<p>2 rows × 6216 columns</p>\n",
       "</div>"
      ],
      "text/plain": [
       "    1% buttermilk  1% chocolate milk  1% cottage cheese  1% milk  \\\n",
       "id                                                                 \n",
       "0               0                  0                  0        0   \n",
       "1               0                  0                  0        0   \n",
       "\n",
       "    2 1/2 to 3 lb. chicken, cut into serving pieces  2% cottage cheese  \\\n",
       "id                                                                       \n",
       "0                                                 0                  0   \n",
       "1                                                 0                  0   \n",
       "\n",
       "    2% low fat cheddar chees  2% lowfat greek yogurt  \\\n",
       "id                                                     \n",
       "0                          0                       0   \n",
       "1                          0                       0   \n",
       "\n",
       "    2% milk mozzarella cheese  2% reduced-fat milk  ...  yuzu  yuzu juice  \\\n",
       "id                                                  ...                     \n",
       "0                           0                    0  ...     0           0   \n",
       "1                           0                    0  ...     0           0   \n",
       "\n",
       "    za'atar  zest  zesty italian dressing  zinfandel  ziti  zucchini  \\\n",
       "id                                                                     \n",
       "0         0     0                       0          0     0         0   \n",
       "1         0     0                       0          0     0         0   \n",
       "\n",
       "    zucchini blossoms  cuisine  \n",
       "id                              \n",
       "0                   0  spanish  \n",
       "1                   0  mexican  \n",
       "\n",
       "[2 rows x 6216 columns]"
      ]
     },
     "execution_count": 3,
     "metadata": {},
     "output_type": "execute_result"
    }
   ],
   "source": [
    "train_data.head(2)"
   ]
  },
  {
   "cell_type": "code",
   "execution_count": 14,
   "id": "eceed124",
   "metadata": {},
   "outputs": [],
   "source": [
    "train_data_tfidf = train_data_tfidf.merge(train_data['cuisine'], left_index=True, right_index=True)"
   ]
  },
  {
   "cell_type": "markdown",
   "id": "45c41a0b",
   "metadata": {},
   "source": [
    "Create train/validation splits of the data"
   ]
  },
  {
   "cell_type": "code",
   "execution_count": 4,
   "id": "2adae88c",
   "metadata": {},
   "outputs": [],
   "source": [
    "X_train, X_val, y_train, y_val = train_test_split(train_data.drop(columns=['cuisine']),\n",
    "                                                  train_data['cuisine'],\n",
    "                                                  test_size=0.3,random_state=22)"
   ]
  },
  {
   "cell_type": "code",
   "execution_count": 15,
   "id": "1f3845a1",
   "metadata": {},
   "outputs": [],
   "source": [
    "X_train_tf, X_val_tf, y_train_tf, y_val_tf = train_test_split(train_data_tfidf.drop(columns=['cuisine']),\n",
    "                                                              train_data_tfidf['cuisine'],\n",
    "                                                              test_size=0.3,random_state=22)"
   ]
  },
  {
   "cell_type": "markdown",
   "id": "7eb35f1f",
   "metadata": {},
   "source": [
    "## Decision Tree\n",
    "For a baseline comparison, let's train a decision tree on the data."
   ]
  },
  {
   "cell_type": "code",
   "execution_count": 5,
   "id": "285f3484",
   "metadata": {},
   "outputs": [
    {
     "data": {
      "text/plain": [
       "(0.9997844904996228, 0.6057152434425542)"
      ]
     },
     "execution_count": 5,
     "metadata": {},
     "output_type": "execute_result"
    }
   ],
   "source": [
    "tree_model = DecisionTreeClassifier()\n",
    "tree_model.fit(X_train, y_train)\n",
    "tree_model.score(X_train, y_train), tree_model.score(X_val, y_val)"
   ]
  },
  {
   "cell_type": "code",
   "execution_count": 6,
   "id": "52dd243a",
   "metadata": {},
   "outputs": [
    {
     "data": {
      "text/plain": [
       "350"
      ]
     },
     "execution_count": 6,
     "metadata": {},
     "output_type": "execute_result"
    }
   ],
   "source": [
    "tree_model.tree_.max_depth"
   ]
  },
  {
   "cell_type": "markdown",
   "id": "4f3a0688",
   "metadata": {},
   "source": [
    "With arbitrary depth, decision trees will overfit. Limiting the depth lowers training accuracy, but might improve validation accuracy. "
   ]
  },
  {
   "cell_type": "code",
   "execution_count": 12,
   "id": "7b2de6c0",
   "metadata": {},
   "outputs": [
    {
     "data": {
      "text/plain": [
       "(0.9337308286340289, 0.6008547724796782)"
      ]
     },
     "execution_count": 12,
     "metadata": {},
     "output_type": "execute_result"
    }
   ],
   "source": [
    "tree_model = DecisionTreeClassifier(max_depth=100)\n",
    "tree_model.fit(X_train, y_train)\n",
    "tree_model.score(X_train, y_train), tree_model.score(X_val, y_val)"
   ]
  },
  {
   "cell_type": "markdown",
   "id": "d4485ebc",
   "metadata": {},
   "source": [
    "For comparison, let's try using the TFIDF encoded data."
   ]
  },
  {
   "cell_type": "code",
   "execution_count": 16,
   "id": "4e9cfc4e",
   "metadata": {},
   "outputs": [
    {
     "data": {
      "text/plain": [
       "(0.9247871843683776, 0.5743735858543535)"
      ]
     },
     "execution_count": 16,
     "metadata": {},
     "output_type": "execute_result"
    }
   ],
   "source": [
    "tree_model = DecisionTreeClassifier(max_depth=100)\n",
    "tree_model.fit(X_train_tf, y_train_tf)\n",
    "tree_model.score(X_train_tf, y_train_tf), tree_model.score(X_val_tf, y_val_tf)"
   ]
  },
  {
   "cell_type": "markdown",
   "id": "d67dfec5",
   "metadata": {},
   "source": [
    "## Random Forest\n",
    "\n",
    "Now let's train a random forest, which should reduce overfitting to the training data. "
   ]
  },
  {
   "cell_type": "code",
   "execution_count": 17,
   "id": "198f698f",
   "metadata": {},
   "outputs": [
    {
     "data": {
      "text/plain": [
       "(0.9997844904996228, 0.7127294058493254)"
      ]
     },
     "execution_count": 17,
     "metadata": {},
     "output_type": "execute_result"
    }
   ],
   "source": [
    "forest_model = RandomForestClassifier(random_state=0)\n",
    "forest_model.fit(X_train, y_train)\n",
    "forest_model.score(X_train, y_train), forest_model.score(X_val, y_val)"
   ]
  },
  {
   "cell_type": "markdown",
   "id": "07cfcb12",
   "metadata": {},
   "source": [
    "As with the decision tree, let's reduce the max depth to reduce overfitting. "
   ]
  },
  {
   "cell_type": "code",
   "execution_count": 21,
   "id": "8d5deed9",
   "metadata": {},
   "outputs": [
    {
     "data": {
      "text/plain": [
       "(0.9778743579612801, 0.7049358920640242)"
      ]
     },
     "execution_count": 21,
     "metadata": {},
     "output_type": "execute_result"
    }
   ],
   "source": [
    "forest_model = RandomForestClassifier(max_depth=100)\n",
    "forest_model.fit(X_train, y_train)\n",
    "forest_model.score(X_train, y_train), forest_model.score(X_val, y_val)"
   ]
  },
  {
   "cell_type": "code",
   "execution_count": 23,
   "id": "b0c49ca0",
   "metadata": {},
   "outputs": [
    {
     "data": {
      "text/plain": [
       "(0.927696562623469, 0.6779518980977123)"
      ]
     },
     "execution_count": 23,
     "metadata": {},
     "output_type": "execute_result"
    }
   ],
   "source": [
    "forest_model = RandomForestClassifier(max_depth=70, n_estimators=50)\n",
    "forest_model.fit(X_train, y_train)\n",
    "forest_model.score(X_train, y_train), forest_model.score(X_val, y_val)"
   ]
  },
  {
   "cell_type": "code",
   "execution_count": 26,
   "id": "bd17ccc8",
   "metadata": {},
   "outputs": [
    {
     "data": {
      "text/plain": [
       "(0.9986351064976114, 0.7014162406771138)"
      ]
     },
     "execution_count": 26,
     "metadata": {},
     "output_type": "execute_result"
    }
   ],
   "source": [
    "forest_model = RandomForestClassifier(max_depth=250, n_estimators=25)\n",
    "forest_model.fit(X_train, y_train)\n",
    "forest_model.score(X_train, y_train), forest_model.score(X_val, y_val)"
   ]
  },
  {
   "cell_type": "markdown",
   "id": "d5b1d4b5",
   "metadata": {},
   "source": [
    "## Grid Search CV\n",
    "\n",
    "We can now use cross validation to tune the hyperparameters of the random forest model."
   ]
  },
  {
   "cell_type": "code",
   "execution_count": 27,
   "id": "35469989",
   "metadata": {},
   "outputs": [],
   "source": [
    "from sklearn.model_selection import GridSearchCV"
   ]
  },
  {
   "cell_type": "code",
   "execution_count": 29,
   "id": "b0fb6d34",
   "metadata": {},
   "outputs": [],
   "source": [
    "parameters = {'max_depth':[50,100,150,200,250,300],\n",
    "              'n_estimators': [25,50,100]}\n",
    "forest = RandomForestClassifier()\n",
    "grid_search = GridSearchCV(forest, parameters, cv=3, verbose=2)"
   ]
  },
  {
   "cell_type": "code",
   "execution_count": 30,
   "id": "ebad3d18",
   "metadata": {
    "collapsed": true
   },
   "outputs": [
    {
     "name": "stdout",
     "output_type": "stream",
     "text": [
      "Fitting 3 folds for each of 18 candidates, totalling 54 fits\n",
      "[CV] END ......................max_depth=50, n_estimators=25; total time=   1.6s\n",
      "[CV] END ......................max_depth=50, n_estimators=25; total time=   1.5s\n",
      "[CV] END ......................max_depth=50, n_estimators=25; total time=   1.5s\n",
      "[CV] END ......................max_depth=50, n_estimators=50; total time=   2.9s\n",
      "[CV] END ......................max_depth=50, n_estimators=50; total time=   2.9s\n",
      "[CV] END ......................max_depth=50, n_estimators=50; total time=   2.8s\n",
      "[CV] END .....................max_depth=50, n_estimators=100; total time=   5.5s\n",
      "[CV] END .....................max_depth=50, n_estimators=100; total time=   5.5s\n",
      "[CV] END .....................max_depth=50, n_estimators=100; total time=   5.5s\n",
      "[CV] END .....................max_depth=100, n_estimators=25; total time=   2.1s\n",
      "[CV] END .....................max_depth=100, n_estimators=25; total time=   2.1s\n",
      "[CV] END .....................max_depth=100, n_estimators=25; total time=   2.1s\n",
      "[CV] END .....................max_depth=100, n_estimators=50; total time=   4.0s\n",
      "[CV] END .....................max_depth=100, n_estimators=50; total time=   4.0s\n",
      "[CV] END .....................max_depth=100, n_estimators=50; total time=   4.0s\n",
      "[CV] END ....................max_depth=100, n_estimators=100; total time=   7.8s\n",
      "[CV] END ....................max_depth=100, n_estimators=100; total time=   7.8s\n",
      "[CV] END ....................max_depth=100, n_estimators=100; total time=   7.9s\n",
      "[CV] END .....................max_depth=150, n_estimators=25; total time=   2.3s\n",
      "[CV] END .....................max_depth=150, n_estimators=25; total time=   2.4s\n",
      "[CV] END .....................max_depth=150, n_estimators=25; total time=   2.2s\n",
      "[CV] END .....................max_depth=150, n_estimators=50; total time=   4.3s\n",
      "[CV] END .....................max_depth=150, n_estimators=50; total time=   4.3s\n",
      "[CV] END .....................max_depth=150, n_estimators=50; total time=   4.3s\n",
      "[CV] END ....................max_depth=150, n_estimators=100; total time=   8.5s\n",
      "[CV] END ....................max_depth=150, n_estimators=100; total time=   8.5s\n",
      "[CV] END ....................max_depth=150, n_estimators=100; total time=   8.4s\n",
      "[CV] END .....................max_depth=200, n_estimators=25; total time=   2.4s\n",
      "[CV] END .....................max_depth=200, n_estimators=25; total time=   2.4s\n",
      "[CV] END .....................max_depth=200, n_estimators=25; total time=   2.3s\n",
      "[CV] END .....................max_depth=200, n_estimators=50; total time=   4.4s\n",
      "[CV] END .....................max_depth=200, n_estimators=50; total time=   4.4s\n",
      "[CV] END .....................max_depth=200, n_estimators=50; total time=   4.4s\n",
      "[CV] END ....................max_depth=200, n_estimators=100; total time=   8.6s\n",
      "[CV] END ....................max_depth=200, n_estimators=100; total time=   8.5s\n",
      "[CV] END ....................max_depth=200, n_estimators=100; total time=   9.3s\n",
      "[CV] END .....................max_depth=250, n_estimators=25; total time=   2.4s\n",
      "[CV] END .....................max_depth=250, n_estimators=25; total time=   2.4s\n",
      "[CV] END .....................max_depth=250, n_estimators=25; total time=   2.4s\n",
      "[CV] END .....................max_depth=250, n_estimators=50; total time=   4.7s\n",
      "[CV] END .....................max_depth=250, n_estimators=50; total time=   4.7s\n",
      "[CV] END .....................max_depth=250, n_estimators=50; total time=   4.9s\n",
      "[CV] END ....................max_depth=250, n_estimators=100; total time=   9.2s\n",
      "[CV] END ....................max_depth=250, n_estimators=100; total time=   9.6s\n",
      "[CV] END ....................max_depth=250, n_estimators=100; total time=   9.6s\n",
      "[CV] END .....................max_depth=300, n_estimators=25; total time=   2.4s\n",
      "[CV] END .....................max_depth=300, n_estimators=25; total time=   2.3s\n",
      "[CV] END .....................max_depth=300, n_estimators=25; total time=   2.7s\n",
      "[CV] END .....................max_depth=300, n_estimators=50; total time=   6.3s\n",
      "[CV] END .....................max_depth=300, n_estimators=50; total time=   5.4s\n",
      "[CV] END .....................max_depth=300, n_estimators=50; total time=   6.1s\n",
      "[CV] END ....................max_depth=300, n_estimators=100; total time=  11.4s\n",
      "[CV] END ....................max_depth=300, n_estimators=100; total time=  11.2s\n",
      "[CV] END ....................max_depth=300, n_estimators=100; total time=  11.1s\n"
     ]
    },
    {
     "data": {
      "text/html": [
       "<style>#sk-container-id-1 {color: black;background-color: white;}#sk-container-id-1 pre{padding: 0;}#sk-container-id-1 div.sk-toggleable {background-color: white;}#sk-container-id-1 label.sk-toggleable__label {cursor: pointer;display: block;width: 100%;margin-bottom: 0;padding: 0.3em;box-sizing: border-box;text-align: center;}#sk-container-id-1 label.sk-toggleable__label-arrow:before {content: \"▸\";float: left;margin-right: 0.25em;color: #696969;}#sk-container-id-1 label.sk-toggleable__label-arrow:hover:before {color: black;}#sk-container-id-1 div.sk-estimator:hover label.sk-toggleable__label-arrow:before {color: black;}#sk-container-id-1 div.sk-toggleable__content {max-height: 0;max-width: 0;overflow: hidden;text-align: left;background-color: #f0f8ff;}#sk-container-id-1 div.sk-toggleable__content pre {margin: 0.2em;color: black;border-radius: 0.25em;background-color: #f0f8ff;}#sk-container-id-1 input.sk-toggleable__control:checked~div.sk-toggleable__content {max-height: 200px;max-width: 100%;overflow: auto;}#sk-container-id-1 input.sk-toggleable__control:checked~label.sk-toggleable__label-arrow:before {content: \"▾\";}#sk-container-id-1 div.sk-estimator input.sk-toggleable__control:checked~label.sk-toggleable__label {background-color: #d4ebff;}#sk-container-id-1 div.sk-label input.sk-toggleable__control:checked~label.sk-toggleable__label {background-color: #d4ebff;}#sk-container-id-1 input.sk-hidden--visually {border: 0;clip: rect(1px 1px 1px 1px);clip: rect(1px, 1px, 1px, 1px);height: 1px;margin: -1px;overflow: hidden;padding: 0;position: absolute;width: 1px;}#sk-container-id-1 div.sk-estimator {font-family: monospace;background-color: #f0f8ff;border: 1px dotted black;border-radius: 0.25em;box-sizing: border-box;margin-bottom: 0.5em;}#sk-container-id-1 div.sk-estimator:hover {background-color: #d4ebff;}#sk-container-id-1 div.sk-parallel-item::after {content: \"\";width: 100%;border-bottom: 1px solid gray;flex-grow: 1;}#sk-container-id-1 div.sk-label:hover label.sk-toggleable__label {background-color: #d4ebff;}#sk-container-id-1 div.sk-serial::before {content: \"\";position: absolute;border-left: 1px solid gray;box-sizing: border-box;top: 0;bottom: 0;left: 50%;z-index: 0;}#sk-container-id-1 div.sk-serial {display: flex;flex-direction: column;align-items: center;background-color: white;padding-right: 0.2em;padding-left: 0.2em;position: relative;}#sk-container-id-1 div.sk-item {position: relative;z-index: 1;}#sk-container-id-1 div.sk-parallel {display: flex;align-items: stretch;justify-content: center;background-color: white;position: relative;}#sk-container-id-1 div.sk-item::before, #sk-container-id-1 div.sk-parallel-item::before {content: \"\";position: absolute;border-left: 1px solid gray;box-sizing: border-box;top: 0;bottom: 0;left: 50%;z-index: -1;}#sk-container-id-1 div.sk-parallel-item {display: flex;flex-direction: column;z-index: 1;position: relative;background-color: white;}#sk-container-id-1 div.sk-parallel-item:first-child::after {align-self: flex-end;width: 50%;}#sk-container-id-1 div.sk-parallel-item:last-child::after {align-self: flex-start;width: 50%;}#sk-container-id-1 div.sk-parallel-item:only-child::after {width: 0;}#sk-container-id-1 div.sk-dashed-wrapped {border: 1px dashed gray;margin: 0 0.4em 0.5em 0.4em;box-sizing: border-box;padding-bottom: 0.4em;background-color: white;}#sk-container-id-1 div.sk-label label {font-family: monospace;font-weight: bold;display: inline-block;line-height: 1.2em;}#sk-container-id-1 div.sk-label-container {text-align: center;}#sk-container-id-1 div.sk-container {/* jupyter's `normalize.less` sets `[hidden] { display: none; }` but bootstrap.min.css set `[hidden] { display: none !important; }` so we also need the `!important` here to be able to override the default hidden behavior on the sphinx rendered scikit-learn.org. See: https://github.com/scikit-learn/scikit-learn/issues/21755 */display: inline-block !important;position: relative;}#sk-container-id-1 div.sk-text-repr-fallback {display: none;}</style><div id=\"sk-container-id-1\" class=\"sk-top-container\"><div class=\"sk-text-repr-fallback\"><pre>GridSearchCV(cv=3, estimator=RandomForestClassifier(),\n",
       "             param_grid={&#x27;max_depth&#x27;: [50, 100, 150, 200, 250, 300],\n",
       "                         &#x27;n_estimators&#x27;: [25, 50, 100]},\n",
       "             verbose=2)</pre><b>In a Jupyter environment, please rerun this cell to show the HTML representation or trust the notebook. <br />On GitHub, the HTML representation is unable to render, please try loading this page with nbviewer.org.</b></div><div class=\"sk-container\" hidden><div class=\"sk-item sk-dashed-wrapped\"><div class=\"sk-label-container\"><div class=\"sk-label sk-toggleable\"><input class=\"sk-toggleable__control sk-hidden--visually\" id=\"sk-estimator-id-1\" type=\"checkbox\" ><label for=\"sk-estimator-id-1\" class=\"sk-toggleable__label sk-toggleable__label-arrow\">GridSearchCV</label><div class=\"sk-toggleable__content\"><pre>GridSearchCV(cv=3, estimator=RandomForestClassifier(),\n",
       "             param_grid={&#x27;max_depth&#x27;: [50, 100, 150, 200, 250, 300],\n",
       "                         &#x27;n_estimators&#x27;: [25, 50, 100]},\n",
       "             verbose=2)</pre></div></div></div><div class=\"sk-parallel\"><div class=\"sk-parallel-item\"><div class=\"sk-item\"><div class=\"sk-label-container\"><div class=\"sk-label sk-toggleable\"><input class=\"sk-toggleable__control sk-hidden--visually\" id=\"sk-estimator-id-2\" type=\"checkbox\" ><label for=\"sk-estimator-id-2\" class=\"sk-toggleable__label sk-toggleable__label-arrow\">estimator: RandomForestClassifier</label><div class=\"sk-toggleable__content\"><pre>RandomForestClassifier()</pre></div></div></div><div class=\"sk-serial\"><div class=\"sk-item\"><div class=\"sk-estimator sk-toggleable\"><input class=\"sk-toggleable__control sk-hidden--visually\" id=\"sk-estimator-id-3\" type=\"checkbox\" ><label for=\"sk-estimator-id-3\" class=\"sk-toggleable__label sk-toggleable__label-arrow\">RandomForestClassifier</label><div class=\"sk-toggleable__content\"><pre>RandomForestClassifier()</pre></div></div></div></div></div></div></div></div></div></div>"
      ],
      "text/plain": [
       "GridSearchCV(cv=3, estimator=RandomForestClassifier(),\n",
       "             param_grid={'max_depth': [50, 100, 150, 200, 250, 300],\n",
       "                         'n_estimators': [25, 50, 100]},\n",
       "             verbose=2)"
      ]
     },
     "execution_count": 30,
     "metadata": {},
     "output_type": "execute_result"
    }
   ],
   "source": [
    "grid_search.fit(X_val, y_val)"
   ]
  },
  {
   "cell_type": "code",
   "execution_count": 32,
   "id": "472dfdee",
   "metadata": {},
   "outputs": [
    {
     "data": {
      "text/plain": [
       "({'max_depth': 250, 'n_estimators': 100}, 0.6627004429146156)"
      ]
     },
     "execution_count": 32,
     "metadata": {},
     "output_type": "execute_result"
    }
   ],
   "source": [
    "grid_search.best_params_, grid_search.best_score_"
   ]
  },
  {
   "cell_type": "markdown",
   "id": "081557d7",
   "metadata": {},
   "source": [
    "## Test Predictions\n",
    "Generate predictions for the test set to evaluate model preformance."
   ]
  },
  {
   "cell_type": "code",
   "execution_count": 33,
   "id": "16534989",
   "metadata": {},
   "outputs": [],
   "source": [
    "test_data = pd.read_csv(\"../data/ohe_test_recipes_v2.csv\",index_col=\"id\")\n"
   ]
  },
  {
   "cell_type": "code",
   "execution_count": 34,
   "id": "3a74a6db",
   "metadata": {},
   "outputs": [],
   "source": [
    "final_model = grid_search.best_estimator_\n",
    "test_predictions = final_model.predict(test_data)"
   ]
  },
  {
   "cell_type": "code",
   "execution_count": 39,
   "id": "50a522fb",
   "metadata": {},
   "outputs": [],
   "source": [
    "pd.Series(test_predictions, index=test_data.index, name='cuisine').to_csv(\"model_predictions/random_forest.csv\")\n",
    "## kaggle score: 0.68574"
   ]
  },
  {
   "cell_type": "code",
   "execution_count": null,
   "id": "455c1444",
   "metadata": {},
   "outputs": [],
   "source": []
  }
 ],
 "metadata": {
  "kernelspec": {
   "display_name": "Python 3 (ipykernel)",
   "language": "python",
   "name": "python3"
  },
  "language_info": {
   "codemirror_mode": {
    "name": "ipython",
    "version": 3
   },
   "file_extension": ".py",
   "mimetype": "text/x-python",
   "name": "python",
   "nbconvert_exporter": "python",
   "pygments_lexer": "ipython3",
   "version": "3.9.10"
  }
 },
 "nbformat": 4,
 "nbformat_minor": 5
}
