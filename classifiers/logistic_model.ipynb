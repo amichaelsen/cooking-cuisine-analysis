{
 "cells": [
  {
   "cell_type": "markdown",
   "id": "73c22f3e",
   "metadata": {},
   "source": [
    "# Logistic Regression Model\n",
    "\n",
    "This notebook develops a logistic regression model for classifying a cuisine based on a recipe's ingredients. The input data used is from the cleaned and one hot encoded recipes. First, we train a baseline model, then perform cross validation to obtain the ideal regularization hyperparameter. Finally we use the model to infer information about the most important ingredients for each cuisine from a predictive perspective. "
   ]
  },
  {
   "cell_type": "code",
   "execution_count": 3,
   "id": "a4f8955f",
   "metadata": {},
   "outputs": [],
   "source": [
    "import numpy as np\n",
    "import pandas as pd\n",
    "from sklearn.linear_model import LogisticRegression\n",
    "from sklearn.model_selection import train_test_split"
   ]
  },
  {
   "cell_type": "code",
   "execution_count": 6,
   "id": "0bb6aa90",
   "metadata": {},
   "outputs": [
    {
     "name": "stdout",
     "output_type": "stream",
     "text": [
      "CPU times: user 12.2 s, sys: 1.26 s, total: 13.5 s\n",
      "Wall time: 13.8 s\n"
     ]
    }
   ],
   "source": [
    "%%time \n",
    "train_data = pd.read_csv(\"../data/ohe_train_recipes_v2.csv\",index_col=\"id\")\n",
    "test_data = pd.read_csv(\"../data/ohe_test_recipes_v2.csv\",index_col=\"id\")"
   ]
  },
  {
   "cell_type": "code",
   "execution_count": 7,
   "id": "2b5c98a1",
   "metadata": {},
   "outputs": [
    {
     "data": {
      "text/html": [
       "<div>\n",
       "<style scoped>\n",
       "    .dataframe tbody tr th:only-of-type {\n",
       "        vertical-align: middle;\n",
       "    }\n",
       "\n",
       "    .dataframe tbody tr th {\n",
       "        vertical-align: top;\n",
       "    }\n",
       "\n",
       "    .dataframe thead th {\n",
       "        text-align: right;\n",
       "    }\n",
       "</style>\n",
       "<table border=\"1\" class=\"dataframe\">\n",
       "  <thead>\n",
       "    <tr style=\"text-align: right;\">\n",
       "      <th></th>\n",
       "      <th>1% buttermilk</th>\n",
       "      <th>1% chocolate milk</th>\n",
       "      <th>1% cottage cheese</th>\n",
       "      <th>1% milk</th>\n",
       "      <th>2 1/2 to 3 lb. chicken, cut into serving pieces</th>\n",
       "      <th>2% cottage cheese</th>\n",
       "      <th>2% low fat cheddar chees</th>\n",
       "      <th>2% lowfat greek yogurt</th>\n",
       "      <th>2% milk mozzarella cheese</th>\n",
       "      <th>2% reduced-fat milk</th>\n",
       "      <th>...</th>\n",
       "      <th>yuzu</th>\n",
       "      <th>yuzu juice</th>\n",
       "      <th>za'atar</th>\n",
       "      <th>zest</th>\n",
       "      <th>zesty italian dressing</th>\n",
       "      <th>zinfandel</th>\n",
       "      <th>ziti</th>\n",
       "      <th>zucchini</th>\n",
       "      <th>zucchini blossoms</th>\n",
       "      <th>cuisine</th>\n",
       "    </tr>\n",
       "    <tr>\n",
       "      <th>id</th>\n",
       "      <th></th>\n",
       "      <th></th>\n",
       "      <th></th>\n",
       "      <th></th>\n",
       "      <th></th>\n",
       "      <th></th>\n",
       "      <th></th>\n",
       "      <th></th>\n",
       "      <th></th>\n",
       "      <th></th>\n",
       "      <th></th>\n",
       "      <th></th>\n",
       "      <th></th>\n",
       "      <th></th>\n",
       "      <th></th>\n",
       "      <th></th>\n",
       "      <th></th>\n",
       "      <th></th>\n",
       "      <th></th>\n",
       "      <th></th>\n",
       "      <th></th>\n",
       "    </tr>\n",
       "  </thead>\n",
       "  <tbody>\n",
       "    <tr>\n",
       "      <th>0</th>\n",
       "      <td>0</td>\n",
       "      <td>0</td>\n",
       "      <td>0</td>\n",
       "      <td>0</td>\n",
       "      <td>0</td>\n",
       "      <td>0</td>\n",
       "      <td>0</td>\n",
       "      <td>0</td>\n",
       "      <td>0</td>\n",
       "      <td>0</td>\n",
       "      <td>...</td>\n",
       "      <td>0</td>\n",
       "      <td>0</td>\n",
       "      <td>0</td>\n",
       "      <td>0</td>\n",
       "      <td>0</td>\n",
       "      <td>0</td>\n",
       "      <td>0</td>\n",
       "      <td>0</td>\n",
       "      <td>0</td>\n",
       "      <td>spanish</td>\n",
       "    </tr>\n",
       "    <tr>\n",
       "      <th>1</th>\n",
       "      <td>0</td>\n",
       "      <td>0</td>\n",
       "      <td>0</td>\n",
       "      <td>0</td>\n",
       "      <td>0</td>\n",
       "      <td>0</td>\n",
       "      <td>0</td>\n",
       "      <td>0</td>\n",
       "      <td>0</td>\n",
       "      <td>0</td>\n",
       "      <td>...</td>\n",
       "      <td>0</td>\n",
       "      <td>0</td>\n",
       "      <td>0</td>\n",
       "      <td>0</td>\n",
       "      <td>0</td>\n",
       "      <td>0</td>\n",
       "      <td>0</td>\n",
       "      <td>0</td>\n",
       "      <td>0</td>\n",
       "      <td>mexican</td>\n",
       "    </tr>\n",
       "  </tbody>\n",
       "</table>\n",
       "<p>2 rows × 6216 columns</p>\n",
       "</div>"
      ],
      "text/plain": [
       "    1% buttermilk  1% chocolate milk  1% cottage cheese  1% milk  \\\n",
       "id                                                                 \n",
       "0               0                  0                  0        0   \n",
       "1               0                  0                  0        0   \n",
       "\n",
       "    2 1/2 to 3 lb. chicken, cut into serving pieces  2% cottage cheese  \\\n",
       "id                                                                       \n",
       "0                                                 0                  0   \n",
       "1                                                 0                  0   \n",
       "\n",
       "    2% low fat cheddar chees  2% lowfat greek yogurt  \\\n",
       "id                                                     \n",
       "0                          0                       0   \n",
       "1                          0                       0   \n",
       "\n",
       "    2% milk mozzarella cheese  2% reduced-fat milk  ...  yuzu  yuzu juice  \\\n",
       "id                                                  ...                     \n",
       "0                           0                    0  ...     0           0   \n",
       "1                           0                    0  ...     0           0   \n",
       "\n",
       "    za'atar  zest  zesty italian dressing  zinfandel  ziti  zucchini  \\\n",
       "id                                                                     \n",
       "0         0     0                       0          0     0         0   \n",
       "1         0     0                       0          0     0         0   \n",
       "\n",
       "    zucchini blossoms  cuisine  \n",
       "id                              \n",
       "0                   0  spanish  \n",
       "1                   0  mexican  \n",
       "\n",
       "[2 rows x 6216 columns]"
      ]
     },
     "execution_count": 7,
     "metadata": {},
     "output_type": "execute_result"
    }
   ],
   "source": [
    "train_data.head(2)"
   ]
  },
  {
   "cell_type": "code",
   "execution_count": 8,
   "id": "8875492e",
   "metadata": {},
   "outputs": [],
   "source": [
    "X =  train_data.drop(['cuisine'],axis=1)\n",
    "response = train_data['cuisine']"
   ]
  },
  {
   "cell_type": "code",
   "execution_count": 10,
   "id": "b22d15f8",
   "metadata": {},
   "outputs": [],
   "source": [
    "X_train,X_validate,y_train,y_validate=train_test_split(X,response,test_size=0.3,random_state=22)"
   ]
  },
  {
   "cell_type": "code",
   "execution_count": 11,
   "id": "7b115d20",
   "metadata": {},
   "outputs": [
    {
     "data": {
      "text/plain": [
       "(27841, 11933, 0.30002011364207776)"
      ]
     },
     "execution_count": 11,
     "metadata": {},
     "output_type": "execute_result"
    }
   ],
   "source": [
    "X_train.shape[0], X_validate.shape[0], X_validate.shape[0]/(X_validate.shape[0]+X_train.shape[0])"
   ]
  },
  {
   "cell_type": "code",
   "execution_count": 12,
   "id": "ae44705d",
   "metadata": {},
   "outputs": [
    {
     "name": "stdout",
     "output_type": "stream",
     "text": [
      "CPU times: user 8min 26s, sys: 4.61 s, total: 8min 30s\n",
      "Wall time: 1min 15s\n"
     ]
    },
    {
     "name": "stderr",
     "output_type": "stream",
     "text": [
      "/opt/homebrew/Caskroom/miniforge/base/lib/python3.9/site-packages/sklearn/linear_model/_logistic.py:444: ConvergenceWarning: lbfgs failed to converge (status=1):\n",
      "STOP: TOTAL NO. of ITERATIONS REACHED LIMIT.\n",
      "\n",
      "Increase the number of iterations (max_iter) or scale the data as shown in:\n",
      "    https://scikit-learn.org/stable/modules/preprocessing.html\n",
      "Please also refer to the documentation for alternative solver options:\n",
      "    https://scikit-learn.org/stable/modules/linear_model.html#logistic-regression\n",
      "  n_iter_i = _check_optimize_result(\n"
     ]
    },
    {
     "data": {
      "text/html": [
       "<style>#sk-container-id-1 {color: black;background-color: white;}#sk-container-id-1 pre{padding: 0;}#sk-container-id-1 div.sk-toggleable {background-color: white;}#sk-container-id-1 label.sk-toggleable__label {cursor: pointer;display: block;width: 100%;margin-bottom: 0;padding: 0.3em;box-sizing: border-box;text-align: center;}#sk-container-id-1 label.sk-toggleable__label-arrow:before {content: \"▸\";float: left;margin-right: 0.25em;color: #696969;}#sk-container-id-1 label.sk-toggleable__label-arrow:hover:before {color: black;}#sk-container-id-1 div.sk-estimator:hover label.sk-toggleable__label-arrow:before {color: black;}#sk-container-id-1 div.sk-toggleable__content {max-height: 0;max-width: 0;overflow: hidden;text-align: left;background-color: #f0f8ff;}#sk-container-id-1 div.sk-toggleable__content pre {margin: 0.2em;color: black;border-radius: 0.25em;background-color: #f0f8ff;}#sk-container-id-1 input.sk-toggleable__control:checked~div.sk-toggleable__content {max-height: 200px;max-width: 100%;overflow: auto;}#sk-container-id-1 input.sk-toggleable__control:checked~label.sk-toggleable__label-arrow:before {content: \"▾\";}#sk-container-id-1 div.sk-estimator input.sk-toggleable__control:checked~label.sk-toggleable__label {background-color: #d4ebff;}#sk-container-id-1 div.sk-label input.sk-toggleable__control:checked~label.sk-toggleable__label {background-color: #d4ebff;}#sk-container-id-1 input.sk-hidden--visually {border: 0;clip: rect(1px 1px 1px 1px);clip: rect(1px, 1px, 1px, 1px);height: 1px;margin: -1px;overflow: hidden;padding: 0;position: absolute;width: 1px;}#sk-container-id-1 div.sk-estimator {font-family: monospace;background-color: #f0f8ff;border: 1px dotted black;border-radius: 0.25em;box-sizing: border-box;margin-bottom: 0.5em;}#sk-container-id-1 div.sk-estimator:hover {background-color: #d4ebff;}#sk-container-id-1 div.sk-parallel-item::after {content: \"\";width: 100%;border-bottom: 1px solid gray;flex-grow: 1;}#sk-container-id-1 div.sk-label:hover label.sk-toggleable__label {background-color: #d4ebff;}#sk-container-id-1 div.sk-serial::before {content: \"\";position: absolute;border-left: 1px solid gray;box-sizing: border-box;top: 0;bottom: 0;left: 50%;z-index: 0;}#sk-container-id-1 div.sk-serial {display: flex;flex-direction: column;align-items: center;background-color: white;padding-right: 0.2em;padding-left: 0.2em;position: relative;}#sk-container-id-1 div.sk-item {position: relative;z-index: 1;}#sk-container-id-1 div.sk-parallel {display: flex;align-items: stretch;justify-content: center;background-color: white;position: relative;}#sk-container-id-1 div.sk-item::before, #sk-container-id-1 div.sk-parallel-item::before {content: \"\";position: absolute;border-left: 1px solid gray;box-sizing: border-box;top: 0;bottom: 0;left: 50%;z-index: -1;}#sk-container-id-1 div.sk-parallel-item {display: flex;flex-direction: column;z-index: 1;position: relative;background-color: white;}#sk-container-id-1 div.sk-parallel-item:first-child::after {align-self: flex-end;width: 50%;}#sk-container-id-1 div.sk-parallel-item:last-child::after {align-self: flex-start;width: 50%;}#sk-container-id-1 div.sk-parallel-item:only-child::after {width: 0;}#sk-container-id-1 div.sk-dashed-wrapped {border: 1px dashed gray;margin: 0 0.4em 0.5em 0.4em;box-sizing: border-box;padding-bottom: 0.4em;background-color: white;}#sk-container-id-1 div.sk-label label {font-family: monospace;font-weight: bold;display: inline-block;line-height: 1.2em;}#sk-container-id-1 div.sk-label-container {text-align: center;}#sk-container-id-1 div.sk-container {/* jupyter's `normalize.less` sets `[hidden] { display: none; }` but bootstrap.min.css set `[hidden] { display: none !important; }` so we also need the `!important` here to be able to override the default hidden behavior on the sphinx rendered scikit-learn.org. See: https://github.com/scikit-learn/scikit-learn/issues/21755 */display: inline-block !important;position: relative;}#sk-container-id-1 div.sk-text-repr-fallback {display: none;}</style><div id=\"sk-container-id-1\" class=\"sk-top-container\"><div class=\"sk-text-repr-fallback\"><pre>LogisticRegression()</pre><b>In a Jupyter environment, please rerun this cell to show the HTML representation or trust the notebook. <br />On GitHub, the HTML representation is unable to render, please try loading this page with nbviewer.org.</b></div><div class=\"sk-container\" hidden><div class=\"sk-item\"><div class=\"sk-estimator sk-toggleable\"><input class=\"sk-toggleable__control sk-hidden--visually\" id=\"sk-estimator-id-1\" type=\"checkbox\" checked><label for=\"sk-estimator-id-1\" class=\"sk-toggleable__label sk-toggleable__label-arrow\">LogisticRegression</label><div class=\"sk-toggleable__content\"><pre>LogisticRegression()</pre></div></div></div></div></div>"
      ],
      "text/plain": [
       "LogisticRegression()"
      ]
     },
     "execution_count": 12,
     "metadata": {},
     "output_type": "execute_result"
    }
   ],
   "source": [
    "%%time\n",
    "lr=LogisticRegression()\n",
    "lr.fit(X_train,y_train)"
   ]
  },
  {
   "cell_type": "code",
   "execution_count": 13,
   "id": "39148267",
   "metadata": {},
   "outputs": [
    {
     "data": {
      "text/plain": [
       "(0.7715578647448252, 0.890808519808915)"
      ]
     },
     "execution_count": 13,
     "metadata": {},
     "output_type": "execute_result"
    }
   ],
   "source": [
    "lr.score(X_validate,y_validate), lr.score(X_train,y_train)"
   ]
  },
  {
   "cell_type": "markdown",
   "id": "01e1ecd6",
   "metadata": {},
   "source": [
    "Given the convergence warning, we will scale the data and retrain the model to see if this improves convergence and accuracy. "
   ]
  },
  {
   "cell_type": "code",
   "execution_count": 18,
   "id": "925283bf",
   "metadata": {},
   "outputs": [],
   "source": [
    "from sklearn.preprocessing import StandardScaler"
   ]
  },
  {
   "cell_type": "code",
   "execution_count": 19,
   "id": "93170976",
   "metadata": {},
   "outputs": [],
   "source": [
    "scaler = StandardScaler()\n",
    "X_train_trans = scaler.fit_transform(X_train)"
   ]
  },
  {
   "cell_type": "code",
   "execution_count": 20,
   "id": "a855e8cb",
   "metadata": {},
   "outputs": [],
   "source": [
    "X_validate_trans = scaler.transform(X_validate)"
   ]
  },
  {
   "cell_type": "code",
   "execution_count": 21,
   "id": "af7e405c",
   "metadata": {},
   "outputs": [
    {
     "name": "stdout",
     "output_type": "stream",
     "text": [
      "CPU times: user 7min 50s, sys: 3.29 s, total: 7min 54s\n",
      "Wall time: 1min 7s\n"
     ]
    },
    {
     "name": "stderr",
     "output_type": "stream",
     "text": [
      "/opt/homebrew/Caskroom/miniforge/base/lib/python3.9/site-packages/sklearn/linear_model/_logistic.py:444: ConvergenceWarning: lbfgs failed to converge (status=1):\n",
      "STOP: TOTAL NO. of ITERATIONS REACHED LIMIT.\n",
      "\n",
      "Increase the number of iterations (max_iter) or scale the data as shown in:\n",
      "    https://scikit-learn.org/stable/modules/preprocessing.html\n",
      "Please also refer to the documentation for alternative solver options:\n",
      "    https://scikit-learn.org/stable/modules/linear_model.html#logistic-regression\n",
      "  n_iter_i = _check_optimize_result(\n"
     ]
    },
    {
     "data": {
      "text/html": [
       "<style>#sk-container-id-2 {color: black;background-color: white;}#sk-container-id-2 pre{padding: 0;}#sk-container-id-2 div.sk-toggleable {background-color: white;}#sk-container-id-2 label.sk-toggleable__label {cursor: pointer;display: block;width: 100%;margin-bottom: 0;padding: 0.3em;box-sizing: border-box;text-align: center;}#sk-container-id-2 label.sk-toggleable__label-arrow:before {content: \"▸\";float: left;margin-right: 0.25em;color: #696969;}#sk-container-id-2 label.sk-toggleable__label-arrow:hover:before {color: black;}#sk-container-id-2 div.sk-estimator:hover label.sk-toggleable__label-arrow:before {color: black;}#sk-container-id-2 div.sk-toggleable__content {max-height: 0;max-width: 0;overflow: hidden;text-align: left;background-color: #f0f8ff;}#sk-container-id-2 div.sk-toggleable__content pre {margin: 0.2em;color: black;border-radius: 0.25em;background-color: #f0f8ff;}#sk-container-id-2 input.sk-toggleable__control:checked~div.sk-toggleable__content {max-height: 200px;max-width: 100%;overflow: auto;}#sk-container-id-2 input.sk-toggleable__control:checked~label.sk-toggleable__label-arrow:before {content: \"▾\";}#sk-container-id-2 div.sk-estimator input.sk-toggleable__control:checked~label.sk-toggleable__label {background-color: #d4ebff;}#sk-container-id-2 div.sk-label input.sk-toggleable__control:checked~label.sk-toggleable__label {background-color: #d4ebff;}#sk-container-id-2 input.sk-hidden--visually {border: 0;clip: rect(1px 1px 1px 1px);clip: rect(1px, 1px, 1px, 1px);height: 1px;margin: -1px;overflow: hidden;padding: 0;position: absolute;width: 1px;}#sk-container-id-2 div.sk-estimator {font-family: monospace;background-color: #f0f8ff;border: 1px dotted black;border-radius: 0.25em;box-sizing: border-box;margin-bottom: 0.5em;}#sk-container-id-2 div.sk-estimator:hover {background-color: #d4ebff;}#sk-container-id-2 div.sk-parallel-item::after {content: \"\";width: 100%;border-bottom: 1px solid gray;flex-grow: 1;}#sk-container-id-2 div.sk-label:hover label.sk-toggleable__label {background-color: #d4ebff;}#sk-container-id-2 div.sk-serial::before {content: \"\";position: absolute;border-left: 1px solid gray;box-sizing: border-box;top: 0;bottom: 0;left: 50%;z-index: 0;}#sk-container-id-2 div.sk-serial {display: flex;flex-direction: column;align-items: center;background-color: white;padding-right: 0.2em;padding-left: 0.2em;position: relative;}#sk-container-id-2 div.sk-item {position: relative;z-index: 1;}#sk-container-id-2 div.sk-parallel {display: flex;align-items: stretch;justify-content: center;background-color: white;position: relative;}#sk-container-id-2 div.sk-item::before, #sk-container-id-2 div.sk-parallel-item::before {content: \"\";position: absolute;border-left: 1px solid gray;box-sizing: border-box;top: 0;bottom: 0;left: 50%;z-index: -1;}#sk-container-id-2 div.sk-parallel-item {display: flex;flex-direction: column;z-index: 1;position: relative;background-color: white;}#sk-container-id-2 div.sk-parallel-item:first-child::after {align-self: flex-end;width: 50%;}#sk-container-id-2 div.sk-parallel-item:last-child::after {align-self: flex-start;width: 50%;}#sk-container-id-2 div.sk-parallel-item:only-child::after {width: 0;}#sk-container-id-2 div.sk-dashed-wrapped {border: 1px dashed gray;margin: 0 0.4em 0.5em 0.4em;box-sizing: border-box;padding-bottom: 0.4em;background-color: white;}#sk-container-id-2 div.sk-label label {font-family: monospace;font-weight: bold;display: inline-block;line-height: 1.2em;}#sk-container-id-2 div.sk-label-container {text-align: center;}#sk-container-id-2 div.sk-container {/* jupyter's `normalize.less` sets `[hidden] { display: none; }` but bootstrap.min.css set `[hidden] { display: none !important; }` so we also need the `!important` here to be able to override the default hidden behavior on the sphinx rendered scikit-learn.org. See: https://github.com/scikit-learn/scikit-learn/issues/21755 */display: inline-block !important;position: relative;}#sk-container-id-2 div.sk-text-repr-fallback {display: none;}</style><div id=\"sk-container-id-2\" class=\"sk-top-container\"><div class=\"sk-text-repr-fallback\"><pre>LogisticRegression()</pre><b>In a Jupyter environment, please rerun this cell to show the HTML representation or trust the notebook. <br />On GitHub, the HTML representation is unable to render, please try loading this page with nbviewer.org.</b></div><div class=\"sk-container\" hidden><div class=\"sk-item\"><div class=\"sk-estimator sk-toggleable\"><input class=\"sk-toggleable__control sk-hidden--visually\" id=\"sk-estimator-id-2\" type=\"checkbox\" checked><label for=\"sk-estimator-id-2\" class=\"sk-toggleable__label sk-toggleable__label-arrow\">LogisticRegression</label><div class=\"sk-toggleable__content\"><pre>LogisticRegression()</pre></div></div></div></div></div>"
      ],
      "text/plain": [
       "LogisticRegression()"
      ]
     },
     "execution_count": 21,
     "metadata": {},
     "output_type": "execute_result"
    }
   ],
   "source": [
    "%%time\n",
    "lr=LogisticRegression()\n",
    "lr.fit(X_train_trans,y_train)"
   ]
  },
  {
   "cell_type": "code",
   "execution_count": 24,
   "id": "6d1b658b",
   "metadata": {},
   "outputs": [
    {
     "data": {
      "text/plain": [
       "(0.6932875219978212, 0.9812147552171259)"
      ]
     },
     "execution_count": 24,
     "metadata": {},
     "output_type": "execute_result"
    }
   ],
   "source": [
    "lr.score(X_validate_trans,y_validate), lr.score(X_train_trans,y_train)"
   ]
  },
  {
   "cell_type": "markdown",
   "id": "61adebba",
   "metadata": {},
   "source": [
    "This method still returns a convergence error and does not improve model performance on the validation set. "
   ]
  },
  {
   "cell_type": "markdown",
   "id": "421ce604",
   "metadata": {},
   "source": [
    "## Hyperparameter Tuning \n",
    "In this section we use `GridSearchCV` to apply cross-validation to find the optimal regularization parameter, C, for the logistic regression model. "
   ]
  },
  {
   "cell_type": "code",
   "execution_count": 34,
   "id": "23e4c1e9",
   "metadata": {},
   "outputs": [],
   "source": [
    "from sklearn.model_selection import GridSearchCV"
   ]
  },
  {
   "cell_type": "code",
   "execution_count": 35,
   "id": "3f34a20b",
   "metadata": {},
   "outputs": [],
   "source": [
    "parameters = {'C':[0.05,0.1,0.5,1,2]}\n",
    "lr=LogisticRegression()"
   ]
  },
  {
   "cell_type": "code",
   "execution_count": 36,
   "id": "7396485b",
   "metadata": {},
   "outputs": [],
   "source": [
    "clf = GridSearchCV(lr, parameters)"
   ]
  },
  {
   "cell_type": "code",
   "execution_count": null,
   "id": "8cf5e641",
   "metadata": {},
   "outputs": [
    {
     "name": "stderr",
     "output_type": "stream",
     "text": [
      "/opt/homebrew/Caskroom/miniforge/base/lib/python3.9/site-packages/sklearn/linear_model/_logistic.py:814: ConvergenceWarning: lbfgs failed to converge (status=1):\n",
      "STOP: TOTAL NO. of ITERATIONS REACHED LIMIT.\n",
      "\n",
      "Increase the number of iterations (max_iter) or scale the data as shown in:\n",
      "    https://scikit-learn.org/stable/modules/preprocessing.html\n",
      "Please also refer to the documentation for alternative solver options:\n",
      "    https://scikit-learn.org/stable/modules/linear_model.html#logistic-regression\n",
      "  n_iter_i = _check_optimize_result(\n",
      "/opt/homebrew/Caskroom/miniforge/base/lib/python3.9/site-packages/sklearn/linear_model/_logistic.py:814: ConvergenceWarning: lbfgs failed to converge (status=1):\n",
      "STOP: TOTAL NO. of ITERATIONS REACHED LIMIT.\n",
      "\n",
      "Increase the number of iterations (max_iter) or scale the data as shown in:\n",
      "    https://scikit-learn.org/stable/modules/preprocessing.html\n",
      "Please also refer to the documentation for alternative solver options:\n",
      "    https://scikit-learn.org/stable/modules/linear_model.html#logistic-regression\n",
      "  n_iter_i = _check_optimize_result(\n",
      "/opt/homebrew/Caskroom/miniforge/base/lib/python3.9/site-packages/sklearn/linear_model/_logistic.py:814: ConvergenceWarning: lbfgs failed to converge (status=1):\n",
      "STOP: TOTAL NO. of ITERATIONS REACHED LIMIT.\n",
      "\n",
      "Increase the number of iterations (max_iter) or scale the data as shown in:\n",
      "    https://scikit-learn.org/stable/modules/preprocessing.html\n",
      "Please also refer to the documentation for alternative solver options:\n",
      "    https://scikit-learn.org/stable/modules/linear_model.html#logistic-regression\n",
      "  n_iter_i = _check_optimize_result(\n"
     ]
    }
   ],
   "source": [
    "clf.fit(X_train, y_train)\n",
    "clf.best_params_"
   ]
  },
  {
   "cell_type": "code",
   "execution_count": 22,
   "id": "9395671d",
   "metadata": {},
   "outputs": [
    {
     "data": {
      "text/html": [
       "<style>#sk-container-id-4 {color: black;background-color: white;}#sk-container-id-4 pre{padding: 0;}#sk-container-id-4 div.sk-toggleable {background-color: white;}#sk-container-id-4 label.sk-toggleable__label {cursor: pointer;display: block;width: 100%;margin-bottom: 0;padding: 0.3em;box-sizing: border-box;text-align: center;}#sk-container-id-4 label.sk-toggleable__label-arrow:before {content: \"▸\";float: left;margin-right: 0.25em;color: #696969;}#sk-container-id-4 label.sk-toggleable__label-arrow:hover:before {color: black;}#sk-container-id-4 div.sk-estimator:hover label.sk-toggleable__label-arrow:before {color: black;}#sk-container-id-4 div.sk-toggleable__content {max-height: 0;max-width: 0;overflow: hidden;text-align: left;background-color: #f0f8ff;}#sk-container-id-4 div.sk-toggleable__content pre {margin: 0.2em;color: black;border-radius: 0.25em;background-color: #f0f8ff;}#sk-container-id-4 input.sk-toggleable__control:checked~div.sk-toggleable__content {max-height: 200px;max-width: 100%;overflow: auto;}#sk-container-id-4 input.sk-toggleable__control:checked~label.sk-toggleable__label-arrow:before {content: \"▾\";}#sk-container-id-4 div.sk-estimator input.sk-toggleable__control:checked~label.sk-toggleable__label {background-color: #d4ebff;}#sk-container-id-4 div.sk-label input.sk-toggleable__control:checked~label.sk-toggleable__label {background-color: #d4ebff;}#sk-container-id-4 input.sk-hidden--visually {border: 0;clip: rect(1px 1px 1px 1px);clip: rect(1px, 1px, 1px, 1px);height: 1px;margin: -1px;overflow: hidden;padding: 0;position: absolute;width: 1px;}#sk-container-id-4 div.sk-estimator {font-family: monospace;background-color: #f0f8ff;border: 1px dotted black;border-radius: 0.25em;box-sizing: border-box;margin-bottom: 0.5em;}#sk-container-id-4 div.sk-estimator:hover {background-color: #d4ebff;}#sk-container-id-4 div.sk-parallel-item::after {content: \"\";width: 100%;border-bottom: 1px solid gray;flex-grow: 1;}#sk-container-id-4 div.sk-label:hover label.sk-toggleable__label {background-color: #d4ebff;}#sk-container-id-4 div.sk-serial::before {content: \"\";position: absolute;border-left: 1px solid gray;box-sizing: border-box;top: 0;bottom: 0;left: 50%;z-index: 0;}#sk-container-id-4 div.sk-serial {display: flex;flex-direction: column;align-items: center;background-color: white;padding-right: 0.2em;padding-left: 0.2em;position: relative;}#sk-container-id-4 div.sk-item {position: relative;z-index: 1;}#sk-container-id-4 div.sk-parallel {display: flex;align-items: stretch;justify-content: center;background-color: white;position: relative;}#sk-container-id-4 div.sk-item::before, #sk-container-id-4 div.sk-parallel-item::before {content: \"\";position: absolute;border-left: 1px solid gray;box-sizing: border-box;top: 0;bottom: 0;left: 50%;z-index: -1;}#sk-container-id-4 div.sk-parallel-item {display: flex;flex-direction: column;z-index: 1;position: relative;background-color: white;}#sk-container-id-4 div.sk-parallel-item:first-child::after {align-self: flex-end;width: 50%;}#sk-container-id-4 div.sk-parallel-item:last-child::after {align-self: flex-start;width: 50%;}#sk-container-id-4 div.sk-parallel-item:only-child::after {width: 0;}#sk-container-id-4 div.sk-dashed-wrapped {border: 1px dashed gray;margin: 0 0.4em 0.5em 0.4em;box-sizing: border-box;padding-bottom: 0.4em;background-color: white;}#sk-container-id-4 div.sk-label label {font-family: monospace;font-weight: bold;display: inline-block;line-height: 1.2em;}#sk-container-id-4 div.sk-label-container {text-align: center;}#sk-container-id-4 div.sk-container {/* jupyter's `normalize.less` sets `[hidden] { display: none; }` but bootstrap.min.css set `[hidden] { display: none !important; }` so we also need the `!important` here to be able to override the default hidden behavior on the sphinx rendered scikit-learn.org. See: https://github.com/scikit-learn/scikit-learn/issues/21755 */display: inline-block !important;position: relative;}#sk-container-id-4 div.sk-text-repr-fallback {display: none;}</style><div id=\"sk-container-id-4\" class=\"sk-top-container\"><div class=\"sk-text-repr-fallback\"><pre>LogisticRegression(C=1)</pre><b>In a Jupyter environment, please rerun this cell to show the HTML representation or trust the notebook. <br />On GitHub, the HTML representation is unable to render, please try loading this page with nbviewer.org.</b></div><div class=\"sk-container\" hidden><div class=\"sk-item\"><div class=\"sk-estimator sk-toggleable\"><input class=\"sk-toggleable__control sk-hidden--visually\" id=\"sk-estimator-id-4\" type=\"checkbox\" checked><label for=\"sk-estimator-id-4\" class=\"sk-toggleable__label sk-toggleable__label-arrow\">LogisticRegression</label><div class=\"sk-toggleable__content\"><pre>LogisticRegression(C=1)</pre></div></div></div></div></div>"
      ],
      "text/plain": [
       "LogisticRegression(C=1)"
      ]
     },
     "execution_count": 22,
     "metadata": {},
     "output_type": "execute_result"
    }
   ],
   "source": [
    "lr"
   ]
  },
  {
   "cell_type": "markdown",
   "id": "6ecdf399",
   "metadata": {},
   "source": [
    "## Model Interpretability \n",
    "\n",
    "To better understand cuisines, we can use the learned coefficients from the logistic regression model to extract a list of top ingredients for any cuisine."
   ]
  },
  {
   "cell_type": "code",
   "execution_count": null,
   "id": "4c41bbd6",
   "metadata": {},
   "outputs": [],
   "source": [
    "lr=LogisticRegression()\n",
    "lr.fit(X_train,y_train)"
   ]
  },
  {
   "cell_type": "code",
   "execution_count": 14,
   "id": "0fa1a273",
   "metadata": {},
   "outputs": [
    {
     "data": {
      "text/html": [
       "<div>\n",
       "<style scoped>\n",
       "    .dataframe tbody tr th:only-of-type {\n",
       "        vertical-align: middle;\n",
       "    }\n",
       "\n",
       "    .dataframe tbody tr th {\n",
       "        vertical-align: top;\n",
       "    }\n",
       "\n",
       "    .dataframe thead th {\n",
       "        text-align: right;\n",
       "    }\n",
       "</style>\n",
       "<table border=\"1\" class=\"dataframe\">\n",
       "  <thead>\n",
       "    <tr style=\"text-align: right;\">\n",
       "      <th></th>\n",
       "      <th>1% buttermilk</th>\n",
       "      <th>1% chocolate milk</th>\n",
       "      <th>1% cottage cheese</th>\n",
       "      <th>1% milk</th>\n",
       "      <th>2 1/2 to 3 lb. chicken, cut into serving pieces</th>\n",
       "      <th>2% cottage cheese</th>\n",
       "      <th>2% low fat cheddar chees</th>\n",
       "      <th>2% lowfat greek yogurt</th>\n",
       "      <th>2% milk mozzarella cheese</th>\n",
       "      <th>2% reduced-fat milk</th>\n",
       "      <th>...</th>\n",
       "      <th>yukon gold potatoes</th>\n",
       "      <th>yuzu</th>\n",
       "      <th>yuzu juice</th>\n",
       "      <th>za'atar</th>\n",
       "      <th>zest</th>\n",
       "      <th>zesty italian dressing</th>\n",
       "      <th>zinfandel</th>\n",
       "      <th>ziti</th>\n",
       "      <th>zucchini</th>\n",
       "      <th>zucchini blossoms</th>\n",
       "    </tr>\n",
       "  </thead>\n",
       "  <tbody>\n",
       "    <tr>\n",
       "      <th>brazilian</th>\n",
       "      <td>-0.011960</td>\n",
       "      <td>-0.000657</td>\n",
       "      <td>-0.007501</td>\n",
       "      <td>-0.294994</td>\n",
       "      <td>-0.001545</td>\n",
       "      <td>-0.000605</td>\n",
       "      <td>0.0</td>\n",
       "      <td>-0.006912</td>\n",
       "      <td>-0.000152</td>\n",
       "      <td>0.227497</td>\n",
       "      <td>...</td>\n",
       "      <td>0.037151</td>\n",
       "      <td>-0.000102</td>\n",
       "      <td>-0.003631</td>\n",
       "      <td>-0.002167</td>\n",
       "      <td>-0.015516</td>\n",
       "      <td>-0.020227</td>\n",
       "      <td>-0.033111</td>\n",
       "      <td>-0.027343</td>\n",
       "      <td>-0.937937</td>\n",
       "      <td>-0.011308</td>\n",
       "    </tr>\n",
       "    <tr>\n",
       "      <th>british</th>\n",
       "      <td>-0.038661</td>\n",
       "      <td>-0.001647</td>\n",
       "      <td>-0.004116</td>\n",
       "      <td>-0.434116</td>\n",
       "      <td>-0.000430</td>\n",
       "      <td>-0.000672</td>\n",
       "      <td>0.0</td>\n",
       "      <td>-0.014513</td>\n",
       "      <td>-0.000164</td>\n",
       "      <td>0.635151</td>\n",
       "      <td>...</td>\n",
       "      <td>0.150851</td>\n",
       "      <td>-0.000107</td>\n",
       "      <td>-0.014011</td>\n",
       "      <td>-0.000018</td>\n",
       "      <td>-0.086049</td>\n",
       "      <td>-0.017721</td>\n",
       "      <td>-0.043599</td>\n",
       "      <td>-0.016618</td>\n",
       "      <td>0.199513</td>\n",
       "      <td>-0.001836</td>\n",
       "    </tr>\n",
       "    <tr>\n",
       "      <th>cajun_creole</th>\n",
       "      <td>-0.046311</td>\n",
       "      <td>-0.001809</td>\n",
       "      <td>-0.026893</td>\n",
       "      <td>0.326151</td>\n",
       "      <td>-0.016949</td>\n",
       "      <td>-0.003808</td>\n",
       "      <td>0.0</td>\n",
       "      <td>-0.025271</td>\n",
       "      <td>-0.000140</td>\n",
       "      <td>0.201637</td>\n",
       "      <td>...</td>\n",
       "      <td>-0.616060</td>\n",
       "      <td>-0.000160</td>\n",
       "      <td>-0.013003</td>\n",
       "      <td>-0.000146</td>\n",
       "      <td>-0.034674</td>\n",
       "      <td>-0.046637</td>\n",
       "      <td>-0.035379</td>\n",
       "      <td>-0.048493</td>\n",
       "      <td>-0.492954</td>\n",
       "      <td>-0.012062</td>\n",
       "    </tr>\n",
       "    <tr>\n",
       "      <th>chinese</th>\n",
       "      <td>-0.006983</td>\n",
       "      <td>-0.004305</td>\n",
       "      <td>-0.005239</td>\n",
       "      <td>-0.279634</td>\n",
       "      <td>-0.018244</td>\n",
       "      <td>-0.000521</td>\n",
       "      <td>0.0</td>\n",
       "      <td>-0.005794</td>\n",
       "      <td>-0.000216</td>\n",
       "      <td>-0.317954</td>\n",
       "      <td>...</td>\n",
       "      <td>-0.556470</td>\n",
       "      <td>-0.005660</td>\n",
       "      <td>-0.007454</td>\n",
       "      <td>-0.000042</td>\n",
       "      <td>-0.013384</td>\n",
       "      <td>-0.092291</td>\n",
       "      <td>-0.031417</td>\n",
       "      <td>-0.008570</td>\n",
       "      <td>-0.271191</td>\n",
       "      <td>-0.014274</td>\n",
       "    </tr>\n",
       "    <tr>\n",
       "      <th>filipino</th>\n",
       "      <td>-0.004480</td>\n",
       "      <td>-0.004331</td>\n",
       "      <td>-0.005384</td>\n",
       "      <td>-0.251803</td>\n",
       "      <td>-0.002290</td>\n",
       "      <td>-0.001327</td>\n",
       "      <td>0.0</td>\n",
       "      <td>-0.011288</td>\n",
       "      <td>-0.000123</td>\n",
       "      <td>-0.200673</td>\n",
       "      <td>...</td>\n",
       "      <td>-0.078106</td>\n",
       "      <td>-0.000286</td>\n",
       "      <td>-0.006766</td>\n",
       "      <td>-0.000052</td>\n",
       "      <td>-0.011075</td>\n",
       "      <td>-0.023870</td>\n",
       "      <td>-0.026977</td>\n",
       "      <td>-0.012995</td>\n",
       "      <td>-0.004062</td>\n",
       "      <td>-0.022963</td>\n",
       "    </tr>\n",
       "  </tbody>\n",
       "</table>\n",
       "<p>5 rows × 6215 columns</p>\n",
       "</div>"
      ],
      "text/plain": [
       "              1% buttermilk  1% chocolate milk  1% cottage cheese   1% milk  \\\n",
       "brazilian         -0.011960          -0.000657          -0.007501 -0.294994   \n",
       "british           -0.038661          -0.001647          -0.004116 -0.434116   \n",
       "cajun_creole      -0.046311          -0.001809          -0.026893  0.326151   \n",
       "chinese           -0.006983          -0.004305          -0.005239 -0.279634   \n",
       "filipino          -0.004480          -0.004331          -0.005384 -0.251803   \n",
       "\n",
       "              2 1/2 to 3 lb. chicken, cut into serving pieces  \\\n",
       "brazilian                                           -0.001545   \n",
       "british                                             -0.000430   \n",
       "cajun_creole                                        -0.016949   \n",
       "chinese                                             -0.018244   \n",
       "filipino                                            -0.002290   \n",
       "\n",
       "              2% cottage cheese  2% low fat cheddar chees  \\\n",
       "brazilian             -0.000605                       0.0   \n",
       "british               -0.000672                       0.0   \n",
       "cajun_creole          -0.003808                       0.0   \n",
       "chinese               -0.000521                       0.0   \n",
       "filipino              -0.001327                       0.0   \n",
       "\n",
       "              2% lowfat greek yogurt  2% milk mozzarella cheese  \\\n",
       "brazilian                  -0.006912                  -0.000152   \n",
       "british                    -0.014513                  -0.000164   \n",
       "cajun_creole               -0.025271                  -0.000140   \n",
       "chinese                    -0.005794                  -0.000216   \n",
       "filipino                   -0.011288                  -0.000123   \n",
       "\n",
       "              2% reduced-fat milk  ...  yukon gold potatoes      yuzu  \\\n",
       "brazilian                0.227497  ...             0.037151 -0.000102   \n",
       "british                  0.635151  ...             0.150851 -0.000107   \n",
       "cajun_creole             0.201637  ...            -0.616060 -0.000160   \n",
       "chinese                 -0.317954  ...            -0.556470 -0.005660   \n",
       "filipino                -0.200673  ...            -0.078106 -0.000286   \n",
       "\n",
       "              yuzu juice   za'atar      zest  zesty italian dressing  \\\n",
       "brazilian      -0.003631 -0.002167 -0.015516               -0.020227   \n",
       "british        -0.014011 -0.000018 -0.086049               -0.017721   \n",
       "cajun_creole   -0.013003 -0.000146 -0.034674               -0.046637   \n",
       "chinese        -0.007454 -0.000042 -0.013384               -0.092291   \n",
       "filipino       -0.006766 -0.000052 -0.011075               -0.023870   \n",
       "\n",
       "              zinfandel      ziti  zucchini  zucchini blossoms  \n",
       "brazilian     -0.033111 -0.027343 -0.937937          -0.011308  \n",
       "british       -0.043599 -0.016618  0.199513          -0.001836  \n",
       "cajun_creole  -0.035379 -0.048493 -0.492954          -0.012062  \n",
       "chinese       -0.031417 -0.008570 -0.271191          -0.014274  \n",
       "filipino      -0.026977 -0.012995 -0.004062          -0.022963  \n",
       "\n",
       "[5 rows x 6215 columns]"
      ]
     },
     "execution_count": 14,
     "metadata": {},
     "output_type": "execute_result"
    }
   ],
   "source": [
    "log_reg_coeffs = pd.DataFrame(data=lr.coef_, index=lr.classes_, columns=X_train.columns)\n",
    "log_reg_coeffs.head()"
   ]
  },
  {
   "cell_type": "code",
   "execution_count": 15,
   "id": "1efdd229",
   "metadata": {},
   "outputs": [],
   "source": [
    "def top_ingredients(coeffs_df, cuisine, n):\n",
    "    return ', '.join(list(coeffs_df.loc[cuisine,:].sort_values(ascending=False).head(n).index))"
   ]
  },
  {
   "cell_type": "code",
   "execution_count": 16,
   "id": "0e476b64",
   "metadata": {},
   "outputs": [
    {
     "data": {
      "text/plain": [
       "'Thai red curry paste, sweet chili sauce, chunky peanut butter, unsweetened coconut milk, fish sauce, thai basil, coconut milk, palm sugar, sticky rice, creamy peanut butter'"
      ]
     },
     "execution_count": 16,
     "metadata": {},
     "output_type": "execute_result"
    }
   ],
   "source": [
    "top_ingredients(log_reg_coeffs, \"thai\",10)"
   ]
  },
  {
   "cell_type": "code",
   "execution_count": 17,
   "id": "527cb446",
   "metadata": {},
   "outputs": [
    {
     "data": {
      "text/plain": [
       "'polenta, arborio rice, pesto, mascarpone, marsala wine, spaghetti, italian sausage, fettucine, ricotta cheese, gnocchi'"
      ]
     },
     "execution_count": 17,
     "metadata": {},
     "output_type": "execute_result"
    }
   ],
   "source": [
    "top_ingredients(log_reg_coeffs, \"italian\",10)"
   ]
  },
  {
   "cell_type": "code",
   "execution_count": null,
   "id": "21a56d09",
   "metadata": {},
   "outputs": [],
   "source": []
  }
 ],
 "metadata": {
  "kernelspec": {
   "display_name": "Python 3 (ipykernel)",
   "language": "python",
   "name": "python3"
  },
  "language_info": {
   "codemirror_mode": {
    "name": "ipython",
    "version": 3
   },
   "file_extension": ".py",
   "mimetype": "text/x-python",
   "name": "python",
   "nbconvert_exporter": "python",
   "pygments_lexer": "ipython3",
   "version": "3.9.10"
  }
 },
 "nbformat": 4,
 "nbformat_minor": 5
}
