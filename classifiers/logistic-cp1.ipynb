{
 "cells": [
  {
   "cell_type": "code",
   "execution_count": 2,
   "metadata": {},
   "outputs": [],
   "source": [
    "import numpy as np\n",
    "import pandas as pd\n",
    "import matplotlib.pyplot as plt\n",
    "import matplotlib as mpl #compart"
   ]
  },
  {
   "cell_type": "code",
   "execution_count": 3,
   "metadata": {},
   "outputs": [],
   "source": []
  },
  {
   "cell_type": "code",
   "execution_count": 4,
   "metadata": {},
   "outputs": [],
   "source": [
    "from sklearn.linear_model import LogisticRegression\n",
    "from sklearn import preprocessing\n",
    "from sklearn.model_selection import train_test_split"
   ]
  },
  {
   "cell_type": "code",
   "execution_count": null,
   "metadata": {},
   "outputs": [],
   "source": []
  },
  {
   "cell_type": "code",
   "execution_count": null,
   "metadata": {},
   "outputs": [],
   "source": []
  },
  {
   "cell_type": "code",
   "execution_count": 12,
   "metadata": {},
   "outputs": [
    {
     "name": "stdout",
     "output_type": "stream",
     "text": [
      "Loading data...done!\n",
      "Cleaning ingredients in training data...done!\n",
      "Cleaning ingredients in testing data...done!\n",
      "Saving processed ingredients to csv...done!\n"
     ]
    }
   ],
   "source": [
    "run ingredient_preprocessing.py"
   ]
  },
  {
   "cell_type": "code",
   "execution_count": 5,
   "metadata": {},
   "outputs": [],
   "source": [
    "train_data = pd.read_json(\"train_cleaned_v1.json\")\n",
    "test_data  = pd.read_json(\"test_cleaned_v1.json\")"
   ]
  },
  {
   "cell_type": "code",
   "execution_count": 37,
   "metadata": {},
   "outputs": [
    {
     "data": {
      "text/plain": [
       "italian         7838\n",
       "mexican         6438\n",
       "southern_us     4320\n",
       "indian          3003\n",
       "chinese         2673\n",
       "french          2646\n",
       "cajun_creole    1546\n",
       "thai            1539\n",
       "japanese        1423\n",
       "greek           1175\n",
       "spanish          989\n",
       "korean           830\n",
       "vietnamese       825\n",
       "moroccan         821\n",
       "british          804\n",
       "filipino         755\n",
       "irish            667\n",
       "jamaican         526\n",
       "russian          489\n",
       "brazilian        467\n",
       "Name: cuisine, dtype: int64"
      ]
     },
     "execution_count": 37,
     "metadata": {},
     "output_type": "execute_result"
    }
   ],
   "source": [
    "train_data['cuisine'].value_counts()"
   ]
  },
  {
   "cell_type": "code",
   "execution_count": 6,
   "metadata": {},
   "outputs": [
    {
     "data": {
      "text/html": [
       "<div>\n",
       "<style scoped>\n",
       "    .dataframe tbody tr th:only-of-type {\n",
       "        vertical-align: middle;\n",
       "    }\n",
       "\n",
       "    .dataframe tbody tr th {\n",
       "        vertical-align: top;\n",
       "    }\n",
       "\n",
       "    .dataframe thead th {\n",
       "        text-align: right;\n",
       "    }\n",
       "</style>\n",
       "<table border=\"1\" class=\"dataframe\">\n",
       "  <thead>\n",
       "    <tr style=\"text-align: right;\">\n",
       "      <th></th>\n",
       "      <th>id</th>\n",
       "      <th>cuisine</th>\n",
       "      <th>ingredients</th>\n",
       "    </tr>\n",
       "  </thead>\n",
       "  <tbody>\n",
       "    <tr>\n",
       "      <th>0</th>\n",
       "      <td>0</td>\n",
       "      <td>spanish</td>\n",
       "      <td>[mussels, pepper, garlic, saffron threads, oli...</td>\n",
       "    </tr>\n",
       "    <tr>\n",
       "      <th>1</th>\n",
       "      <td>1</td>\n",
       "      <td>mexican</td>\n",
       "      <td>[tomatoes, red onions, paprika, salt, corn tor...</td>\n",
       "    </tr>\n",
       "    <tr>\n",
       "      <th>2</th>\n",
       "      <td>2</td>\n",
       "      <td>french</td>\n",
       "      <td>[chicken broth, truffles, pimentos, green pepp...</td>\n",
       "    </tr>\n",
       "    <tr>\n",
       "      <th>3</th>\n",
       "      <td>3</td>\n",
       "      <td>chinese</td>\n",
       "      <td>[ginger, sesame oil, peas, cooked rice, bell p...</td>\n",
       "    </tr>\n",
       "    <tr>\n",
       "      <th>4</th>\n",
       "      <td>4</td>\n",
       "      <td>italian</td>\n",
       "      <td>[orange peel, cookies, vanilla ice cream, gran...</td>\n",
       "    </tr>\n",
       "  </tbody>\n",
       "</table>\n",
       "</div>"
      ],
      "text/plain": [
       "   id  cuisine                                        ingredients\n",
       "0   0  spanish  [mussels, pepper, garlic, saffron threads, oli...\n",
       "1   1  mexican  [tomatoes, red onions, paprika, salt, corn tor...\n",
       "2   2   french  [chicken broth, truffles, pimentos, green pepp...\n",
       "3   3  chinese  [ginger, sesame oil, peas, cooked rice, bell p...\n",
       "4   4  italian  [orange peel, cookies, vanilla ice cream, gran..."
      ]
     },
     "execution_count": 6,
     "metadata": {},
     "output_type": "execute_result"
    }
   ],
   "source": [
    "train_data.head()"
   ]
  },
  {
   "cell_type": "code",
   "execution_count": 7,
   "metadata": {},
   "outputs": [
    {
     "data": {
      "text/html": [
       "<div>\n",
       "<style scoped>\n",
       "    .dataframe tbody tr th:only-of-type {\n",
       "        vertical-align: middle;\n",
       "    }\n",
       "\n",
       "    .dataframe tbody tr th {\n",
       "        vertical-align: top;\n",
       "    }\n",
       "\n",
       "    .dataframe thead th {\n",
       "        text-align: right;\n",
       "    }\n",
       "</style>\n",
       "<table border=\"1\" class=\"dataframe\">\n",
       "  <thead>\n",
       "    <tr style=\"text-align: right;\">\n",
       "      <th></th>\n",
       "      <th>id</th>\n",
       "      <th>ingredients</th>\n",
       "    </tr>\n",
       "  </thead>\n",
       "  <tbody>\n",
       "    <tr>\n",
       "      <th>0</th>\n",
       "      <td>5</td>\n",
       "      <td>[mushrooms, onion, tomato sauce, cheese, orega...</td>\n",
       "    </tr>\n",
       "    <tr>\n",
       "      <th>1</th>\n",
       "      <td>7</td>\n",
       "      <td>[garlic, brown rice, sour cream, chicken, red ...</td>\n",
       "    </tr>\n",
       "    <tr>\n",
       "      <th>2</th>\n",
       "      <td>11</td>\n",
       "      <td>[lime juice, sesame oil, garlic, fish sauce, l...</td>\n",
       "    </tr>\n",
       "    <tr>\n",
       "      <th>3</th>\n",
       "      <td>12</td>\n",
       "      <td>[sugar, vanilla extract, corn starch, coffee g...</td>\n",
       "    </tr>\n",
       "    <tr>\n",
       "      <th>4</th>\n",
       "      <td>13</td>\n",
       "      <td>[pie crust, bourbon whiskey, powdered sugar, c...</td>\n",
       "    </tr>\n",
       "  </tbody>\n",
       "</table>\n",
       "</div>"
      ],
      "text/plain": [
       "   id                                        ingredients\n",
       "0   5  [mushrooms, onion, tomato sauce, cheese, orega...\n",
       "1   7  [garlic, brown rice, sour cream, chicken, red ...\n",
       "2  11  [lime juice, sesame oil, garlic, fish sauce, l...\n",
       "3  12  [sugar, vanilla extract, corn starch, coffee g...\n",
       "4  13  [pie crust, bourbon whiskey, powdered sugar, c..."
      ]
     },
     "execution_count": 7,
     "metadata": {},
     "output_type": "execute_result"
    }
   ],
   "source": [
    "test_data.head()"
   ]
  },
  {
   "cell_type": "code",
   "execution_count": null,
   "metadata": {},
   "outputs": [],
   "source": []
  },
  {
   "cell_type": "code",
   "execution_count": null,
   "metadata": {},
   "outputs": [],
   "source": []
  },
  {
   "cell_type": "code",
   "execution_count": null,
   "metadata": {},
   "outputs": [],
   "source": []
  },
  {
   "cell_type": "code",
   "execution_count": null,
   "metadata": {},
   "outputs": [],
   "source": []
  },
  {
   "cell_type": "code",
   "execution_count": null,
   "metadata": {},
   "outputs": [],
   "source": []
  },
  {
   "cell_type": "code",
   "execution_count": 12,
   "metadata": {},
   "outputs": [],
   "source": [
    "# counting"
   ]
  },
  {
   "cell_type": "code",
   "execution_count": 13,
   "metadata": {},
   "outputs": [],
   "source": [
    "###"
   ]
  },
  {
   "cell_type": "code",
   "execution_count": 14,
   "metadata": {},
   "outputs": [],
   "source": [
    "#keep count of no. ingredients in train \n",
    "train_count_ingredients={}\n",
    "for i in range(len(train_data)):\n",
    "    for j in train_data['ingredients'][i]:\n",
    "        if j in train_count_ingredients.keys():\n",
    "            train_count_ingredients[j]+=1\n",
    "        else:\n",
    "            train_count_ingredients[j]=1"
   ]
  },
  {
   "cell_type": "code",
   "execution_count": 15,
   "metadata": {},
   "outputs": [],
   "source": [
    "#keep count of no. ingredients in test \n",
    "test_count_ingredients={}\n",
    "for i in range(len(test_data)):\n",
    "    for j in test_data['ingredients'][i]:\n",
    "        if j in test_count_ingredients.keys():\n",
    "            test_count_ingredients[j]+=1\n",
    "        else:\n",
    "            test_count_ingredients[j]=1"
   ]
  },
  {
   "cell_type": "code",
   "execution_count": 16,
   "metadata": {},
   "outputs": [
    {
     "name": "stdout",
     "output_type": "stream",
     "text": [
      "6215\n",
      "4121\n"
     ]
    }
   ],
   "source": [
    "print(len(train_count_ingredients))\n",
    "print(len(test_count_ingredients))"
   ]
  },
  {
   "cell_type": "code",
   "execution_count": 17,
   "metadata": {},
   "outputs": [
    {
     "name": "stdout",
     "output_type": "stream",
     "text": [
      "399\n"
     ]
    }
   ],
   "source": [
    "# count no. ingredients in test, not in train\n",
    "ingredients_missing_train=[]\n",
    "for i in test_count_ingredients.keys():\n",
    "    if i not in train_count_ingredients.keys():\n",
    "        ingredients_missing_train.append(i)\n",
    "print(len(ingredients_missing_train)) "
   ]
  },
  {
   "cell_type": "code",
   "execution_count": 18,
   "metadata": {},
   "outputs": [
    {
     "name": "stdout",
     "output_type": "stream",
     "text": [
      "6614\n"
     ]
    }
   ],
   "source": [
    "for i in ingredients_missing_train:\n",
    "    train_count_ingredients[i]=0\n",
    "print(len(train_count_ingredients))  "
   ]
  },
  {
   "cell_type": "code",
   "execution_count": 19,
   "metadata": {},
   "outputs": [
    {
     "name": "stdout",
     "output_type": "stream",
     "text": [
      "2493\n"
     ]
    }
   ],
   "source": [
    "# count no. ingredients in train, not in test\n",
    "ingredients_missing_list=[]\n",
    "for i in train_count_ingredients.keys():\n",
    "    if i not in test_count_ingredients.keys():\n",
    "        ingredients_missing_list.append(i)\n",
    "print(len(ingredients_missing_list))   "
   ]
  },
  {
   "cell_type": "code",
   "execution_count": 20,
   "metadata": {},
   "outputs": [
    {
     "name": "stdout",
     "output_type": "stream",
     "text": [
      "6614\n"
     ]
    }
   ],
   "source": [
    "for i in ingredients_missing_list:\n",
    "    test_count_ingredients[i]=0\n",
    "print(len(test_count_ingredients))    "
   ]
  },
  {
   "cell_type": "code",
   "execution_count": 21,
   "metadata": {},
   "outputs": [],
   "source": [
    "for i in train_count_ingredients.keys():\n",
    "    train_data[i]=np.zeros(len(train_data))"
   ]
  },
  {
   "cell_type": "code",
   "execution_count": 22,
   "metadata": {},
   "outputs": [],
   "source": [
    "for i in test_count_ingredients.keys():\n",
    "    test_data[i]=np.zeros(len(test_data))"
   ]
  },
  {
   "cell_type": "code",
   "execution_count": 23,
   "metadata": {},
   "outputs": [],
   "source": [
    "###"
   ]
  },
  {
   "cell_type": "code",
   "execution_count": null,
   "metadata": {},
   "outputs": [],
   "source": []
  },
  {
   "cell_type": "code",
   "execution_count": null,
   "metadata": {},
   "outputs": [],
   "source": []
  },
  {
   "cell_type": "code",
   "execution_count": null,
   "metadata": {},
   "outputs": [],
   "source": []
  },
  {
   "cell_type": "code",
   "execution_count": 36,
   "metadata": {},
   "outputs": [
    {
     "name": "stderr",
     "output_type": "stream",
     "text": [
      "/Library/Frameworks/Python.framework/Versions/3.8/lib/python3.8/site-packages/pandas/core/indexing.py:671: SettingWithCopyWarning: \n",
      "A value is trying to be set on a copy of a slice from a DataFrame\n",
      "\n",
      "See the caveats in the documentation: https://pandas.pydata.org/pandas-docs/stable/user_guide/indexing.html#returning-a-view-versus-a-copy\n",
      "  self._setitem_with_indexer(indexer, value)\n"
     ]
    }
   ],
   "source": [
    "# place a 1 in correct ingrediuent column, when ingredient is present \n",
    "for i in range(len(train_data)):\n",
    "    for j in train_data['ingredients'][i]:\n",
    "        train_data[j].iloc[i]=1"
   ]
  },
  {
   "cell_type": "code",
   "execution_count": 26,
   "metadata": {
    "scrolled": true
   },
   "outputs": [
    {
     "data": {
      "text/html": [
       "<div>\n",
       "<style scoped>\n",
       "    .dataframe tbody tr th:only-of-type {\n",
       "        vertical-align: middle;\n",
       "    }\n",
       "\n",
       "    .dataframe tbody tr th {\n",
       "        vertical-align: top;\n",
       "    }\n",
       "\n",
       "    .dataframe thead th {\n",
       "        text-align: right;\n",
       "    }\n",
       "</style>\n",
       "<table border=\"1\" class=\"dataframe\">\n",
       "  <thead>\n",
       "    <tr style=\"text-align: right;\">\n",
       "      <th></th>\n",
       "      <th>id</th>\n",
       "      <th>cuisine</th>\n",
       "      <th>ingredients</th>\n",
       "      <th>mussels</th>\n",
       "      <th>pepper</th>\n",
       "      <th>garlic</th>\n",
       "      <th>saffron threads</th>\n",
       "      <th>olive oil</th>\n",
       "      <th>stewed tomatoes</th>\n",
       "      <th>arborio rice</th>\n",
       "      <th>...</th>\n",
       "      <th>chees fat grate parmesan reduc</th>\n",
       "      <th>Asian herb</th>\n",
       "      <th>horse gram</th>\n",
       "      <th>sicilian</th>\n",
       "      <th>knorr shrimp flavor bouillon cube</th>\n",
       "      <th>peach jam</th>\n",
       "      <th>dress russian</th>\n",
       "      <th>peach yogurt</th>\n",
       "      <th>vegetable base</th>\n",
       "      <th>grain brown rice</th>\n",
       "    </tr>\n",
       "  </thead>\n",
       "  <tbody>\n",
       "    <tr>\n",
       "      <th>0</th>\n",
       "      <td>0</td>\n",
       "      <td>spanish</td>\n",
       "      <td>[mussels, pepper, garlic, saffron threads, oli...</td>\n",
       "      <td>1.0</td>\n",
       "      <td>1.0</td>\n",
       "      <td>1.0</td>\n",
       "      <td>1.0</td>\n",
       "      <td>1.0</td>\n",
       "      <td>1.0</td>\n",
       "      <td>1.0</td>\n",
       "      <td>...</td>\n",
       "      <td>0.0</td>\n",
       "      <td>0.0</td>\n",
       "      <td>0.0</td>\n",
       "      <td>0.0</td>\n",
       "      <td>0.0</td>\n",
       "      <td>0.0</td>\n",
       "      <td>0.0</td>\n",
       "      <td>0.0</td>\n",
       "      <td>0.0</td>\n",
       "      <td>0.0</td>\n",
       "    </tr>\n",
       "    <tr>\n",
       "      <th>1</th>\n",
       "      <td>1</td>\n",
       "      <td>mexican</td>\n",
       "      <td>[tomatoes, red onions, paprika, salt, corn tor...</td>\n",
       "      <td>0.0</td>\n",
       "      <td>0.0</td>\n",
       "      <td>1.0</td>\n",
       "      <td>0.0</td>\n",
       "      <td>0.0</td>\n",
       "      <td>0.0</td>\n",
       "      <td>0.0</td>\n",
       "      <td>...</td>\n",
       "      <td>0.0</td>\n",
       "      <td>0.0</td>\n",
       "      <td>0.0</td>\n",
       "      <td>0.0</td>\n",
       "      <td>0.0</td>\n",
       "      <td>0.0</td>\n",
       "      <td>0.0</td>\n",
       "      <td>0.0</td>\n",
       "      <td>0.0</td>\n",
       "      <td>0.0</td>\n",
       "    </tr>\n",
       "    <tr>\n",
       "      <th>2</th>\n",
       "      <td>2</td>\n",
       "      <td>french</td>\n",
       "      <td>[chicken broth, truffles, pimentos, green pepp...</td>\n",
       "      <td>0.0</td>\n",
       "      <td>0.0</td>\n",
       "      <td>0.0</td>\n",
       "      <td>0.0</td>\n",
       "      <td>0.0</td>\n",
       "      <td>0.0</td>\n",
       "      <td>0.0</td>\n",
       "      <td>...</td>\n",
       "      <td>0.0</td>\n",
       "      <td>0.0</td>\n",
       "      <td>0.0</td>\n",
       "      <td>0.0</td>\n",
       "      <td>0.0</td>\n",
       "      <td>0.0</td>\n",
       "      <td>0.0</td>\n",
       "      <td>0.0</td>\n",
       "      <td>0.0</td>\n",
       "      <td>0.0</td>\n",
       "    </tr>\n",
       "    <tr>\n",
       "      <th>3</th>\n",
       "      <td>3</td>\n",
       "      <td>chinese</td>\n",
       "      <td>[ginger, sesame oil, peas, cooked rice, bell p...</td>\n",
       "      <td>0.0</td>\n",
       "      <td>0.0</td>\n",
       "      <td>1.0</td>\n",
       "      <td>0.0</td>\n",
       "      <td>0.0</td>\n",
       "      <td>0.0</td>\n",
       "      <td>0.0</td>\n",
       "      <td>...</td>\n",
       "      <td>0.0</td>\n",
       "      <td>0.0</td>\n",
       "      <td>0.0</td>\n",
       "      <td>0.0</td>\n",
       "      <td>0.0</td>\n",
       "      <td>0.0</td>\n",
       "      <td>0.0</td>\n",
       "      <td>0.0</td>\n",
       "      <td>0.0</td>\n",
       "      <td>0.0</td>\n",
       "    </tr>\n",
       "    <tr>\n",
       "      <th>4</th>\n",
       "      <td>4</td>\n",
       "      <td>italian</td>\n",
       "      <td>[orange peel, cookies, vanilla ice cream, gran...</td>\n",
       "      <td>0.0</td>\n",
       "      <td>0.0</td>\n",
       "      <td>0.0</td>\n",
       "      <td>0.0</td>\n",
       "      <td>0.0</td>\n",
       "      <td>0.0</td>\n",
       "      <td>0.0</td>\n",
       "      <td>...</td>\n",
       "      <td>0.0</td>\n",
       "      <td>0.0</td>\n",
       "      <td>0.0</td>\n",
       "      <td>0.0</td>\n",
       "      <td>0.0</td>\n",
       "      <td>0.0</td>\n",
       "      <td>0.0</td>\n",
       "      <td>0.0</td>\n",
       "      <td>0.0</td>\n",
       "      <td>0.0</td>\n",
       "    </tr>\n",
       "  </tbody>\n",
       "</table>\n",
       "<p>5 rows × 6617 columns</p>\n",
       "</div>"
      ],
      "text/plain": [
       "   id  cuisine                                        ingredients  mussels  \\\n",
       "0   0  spanish  [mussels, pepper, garlic, saffron threads, oli...      1.0   \n",
       "1   1  mexican  [tomatoes, red onions, paprika, salt, corn tor...      0.0   \n",
       "2   2   french  [chicken broth, truffles, pimentos, green pepp...      0.0   \n",
       "3   3  chinese  [ginger, sesame oil, peas, cooked rice, bell p...      0.0   \n",
       "4   4  italian  [orange peel, cookies, vanilla ice cream, gran...      0.0   \n",
       "\n",
       "   pepper  garlic  saffron threads  olive oil  stewed tomatoes  arborio rice  \\\n",
       "0     1.0     1.0              1.0        1.0              1.0           1.0   \n",
       "1     0.0     1.0              0.0        0.0              0.0           0.0   \n",
       "2     0.0     0.0              0.0        0.0              0.0           0.0   \n",
       "3     0.0     1.0              0.0        0.0              0.0           0.0   \n",
       "4     0.0     0.0              0.0        0.0              0.0           0.0   \n",
       "\n",
       "   ...  chees fat grate parmesan reduc  Asian herb  horse gram  sicilian  \\\n",
       "0  ...                             0.0         0.0         0.0       0.0   \n",
       "1  ...                             0.0         0.0         0.0       0.0   \n",
       "2  ...                             0.0         0.0         0.0       0.0   \n",
       "3  ...                             0.0         0.0         0.0       0.0   \n",
       "4  ...                             0.0         0.0         0.0       0.0   \n",
       "\n",
       "   knorr shrimp flavor bouillon cube  peach jam  dress russian  peach yogurt  \\\n",
       "0                                0.0        0.0            0.0           0.0   \n",
       "1                                0.0        0.0            0.0           0.0   \n",
       "2                                0.0        0.0            0.0           0.0   \n",
       "3                                0.0        0.0            0.0           0.0   \n",
       "4                                0.0        0.0            0.0           0.0   \n",
       "\n",
       "   vegetable base  grain brown rice  \n",
       "0             0.0               0.0  \n",
       "1             0.0               0.0  \n",
       "2             0.0               0.0  \n",
       "3             0.0               0.0  \n",
       "4             0.0               0.0  \n",
       "\n",
       "[5 rows x 6617 columns]"
      ]
     },
     "execution_count": 26,
     "metadata": {},
     "output_type": "execute_result"
    }
   ],
   "source": [
    "train_data.head()"
   ]
  },
  {
   "cell_type": "code",
   "execution_count": 27,
   "metadata": {},
   "outputs": [
    {
     "name": "stderr",
     "output_type": "stream",
     "text": [
      "/Library/Frameworks/Python.framework/Versions/3.8/lib/python3.8/site-packages/pandas/core/indexing.py:671: SettingWithCopyWarning: \n",
      "A value is trying to be set on a copy of a slice from a DataFrame\n",
      "\n",
      "See the caveats in the documentation: https://pandas.pydata.org/pandas-docs/stable/user_guide/indexing.html#returning-a-view-versus-a-copy\n",
      "  self._setitem_with_indexer(indexer, value)\n"
     ]
    }
   ],
   "source": [
    "# place a 1 in correct ingrediuent column, when ingredient is present \n",
    "for ii in range(len(test_data)):\n",
    "    for jj in test_data['ingredients'][ii]:\n",
    "        test_data[jj].iloc[ii]=1"
   ]
  },
  {
   "cell_type": "code",
   "execution_count": 28,
   "metadata": {
    "scrolled": true
   },
   "outputs": [
    {
     "data": {
      "text/html": [
       "<div>\n",
       "<style scoped>\n",
       "    .dataframe tbody tr th:only-of-type {\n",
       "        vertical-align: middle;\n",
       "    }\n",
       "\n",
       "    .dataframe tbody tr th {\n",
       "        vertical-align: top;\n",
       "    }\n",
       "\n",
       "    .dataframe thead th {\n",
       "        text-align: right;\n",
       "    }\n",
       "</style>\n",
       "<table border=\"1\" class=\"dataframe\">\n",
       "  <thead>\n",
       "    <tr style=\"text-align: right;\">\n",
       "      <th></th>\n",
       "      <th>id</th>\n",
       "      <th>ingredients</th>\n",
       "      <th>mushrooms</th>\n",
       "      <th>onion</th>\n",
       "      <th>tomato sauce</th>\n",
       "      <th>cheese</th>\n",
       "      <th>oregano</th>\n",
       "      <th>lean ground turkey</th>\n",
       "      <th>chili powder</th>\n",
       "      <th>garlic</th>\n",
       "      <th>...</th>\n",
       "      <th>lamb seasoning</th>\n",
       "      <th>coconut chips</th>\n",
       "      <th>eye of the round</th>\n",
       "      <th>meat seasoning</th>\n",
       "      <th>sobrasada</th>\n",
       "      <th>lotus leaves</th>\n",
       "      <th>oyster liquor</th>\n",
       "      <th>Hawaiian salt</th>\n",
       "      <th>raw buckwheat groats</th>\n",
       "      <th>beluga lentil</th>\n",
       "    </tr>\n",
       "  </thead>\n",
       "  <tbody>\n",
       "    <tr>\n",
       "      <th>0</th>\n",
       "      <td>5</td>\n",
       "      <td>[mushrooms, onion, tomato sauce, cheese, orega...</td>\n",
       "      <td>1.0</td>\n",
       "      <td>1.0</td>\n",
       "      <td>1.0</td>\n",
       "      <td>1.0</td>\n",
       "      <td>1.0</td>\n",
       "      <td>1.0</td>\n",
       "      <td>1.0</td>\n",
       "      <td>1.0</td>\n",
       "      <td>...</td>\n",
       "      <td>0.0</td>\n",
       "      <td>0.0</td>\n",
       "      <td>0.0</td>\n",
       "      <td>0.0</td>\n",
       "      <td>0.0</td>\n",
       "      <td>0.0</td>\n",
       "      <td>0.0</td>\n",
       "      <td>0.0</td>\n",
       "      <td>0.0</td>\n",
       "      <td>0.0</td>\n",
       "    </tr>\n",
       "    <tr>\n",
       "      <th>1</th>\n",
       "      <td>7</td>\n",
       "      <td>[garlic, brown rice, sour cream, chicken, red ...</td>\n",
       "      <td>0.0</td>\n",
       "      <td>0.0</td>\n",
       "      <td>0.0</td>\n",
       "      <td>0.0</td>\n",
       "      <td>0.0</td>\n",
       "      <td>0.0</td>\n",
       "      <td>0.0</td>\n",
       "      <td>1.0</td>\n",
       "      <td>...</td>\n",
       "      <td>0.0</td>\n",
       "      <td>0.0</td>\n",
       "      <td>0.0</td>\n",
       "      <td>0.0</td>\n",
       "      <td>0.0</td>\n",
       "      <td>0.0</td>\n",
       "      <td>0.0</td>\n",
       "      <td>0.0</td>\n",
       "      <td>0.0</td>\n",
       "      <td>0.0</td>\n",
       "    </tr>\n",
       "    <tr>\n",
       "      <th>2</th>\n",
       "      <td>11</td>\n",
       "      <td>[lime juice, sesame oil, garlic, fish sauce, l...</td>\n",
       "      <td>0.0</td>\n",
       "      <td>0.0</td>\n",
       "      <td>0.0</td>\n",
       "      <td>0.0</td>\n",
       "      <td>0.0</td>\n",
       "      <td>0.0</td>\n",
       "      <td>0.0</td>\n",
       "      <td>1.0</td>\n",
       "      <td>...</td>\n",
       "      <td>0.0</td>\n",
       "      <td>0.0</td>\n",
       "      <td>0.0</td>\n",
       "      <td>0.0</td>\n",
       "      <td>0.0</td>\n",
       "      <td>0.0</td>\n",
       "      <td>0.0</td>\n",
       "      <td>0.0</td>\n",
       "      <td>0.0</td>\n",
       "      <td>0.0</td>\n",
       "    </tr>\n",
       "    <tr>\n",
       "      <th>3</th>\n",
       "      <td>12</td>\n",
       "      <td>[sugar, vanilla extract, corn starch, coffee g...</td>\n",
       "      <td>0.0</td>\n",
       "      <td>0.0</td>\n",
       "      <td>0.0</td>\n",
       "      <td>0.0</td>\n",
       "      <td>0.0</td>\n",
       "      <td>0.0</td>\n",
       "      <td>0.0</td>\n",
       "      <td>0.0</td>\n",
       "      <td>...</td>\n",
       "      <td>0.0</td>\n",
       "      <td>0.0</td>\n",
       "      <td>0.0</td>\n",
       "      <td>0.0</td>\n",
       "      <td>0.0</td>\n",
       "      <td>0.0</td>\n",
       "      <td>0.0</td>\n",
       "      <td>0.0</td>\n",
       "      <td>0.0</td>\n",
       "      <td>0.0</td>\n",
       "    </tr>\n",
       "    <tr>\n",
       "      <th>4</th>\n",
       "      <td>13</td>\n",
       "      <td>[pie crust, bourbon whiskey, powdered sugar, c...</td>\n",
       "      <td>0.0</td>\n",
       "      <td>0.0</td>\n",
       "      <td>0.0</td>\n",
       "      <td>0.0</td>\n",
       "      <td>0.0</td>\n",
       "      <td>0.0</td>\n",
       "      <td>0.0</td>\n",
       "      <td>0.0</td>\n",
       "      <td>...</td>\n",
       "      <td>0.0</td>\n",
       "      <td>0.0</td>\n",
       "      <td>0.0</td>\n",
       "      <td>0.0</td>\n",
       "      <td>0.0</td>\n",
       "      <td>0.0</td>\n",
       "      <td>0.0</td>\n",
       "      <td>0.0</td>\n",
       "      <td>0.0</td>\n",
       "      <td>0.0</td>\n",
       "    </tr>\n",
       "  </tbody>\n",
       "</table>\n",
       "<p>5 rows × 6616 columns</p>\n",
       "</div>"
      ],
      "text/plain": [
       "   id                                        ingredients  mushrooms  onion  \\\n",
       "0   5  [mushrooms, onion, tomato sauce, cheese, orega...        1.0    1.0   \n",
       "1   7  [garlic, brown rice, sour cream, chicken, red ...        0.0    0.0   \n",
       "2  11  [lime juice, sesame oil, garlic, fish sauce, l...        0.0    0.0   \n",
       "3  12  [sugar, vanilla extract, corn starch, coffee g...        0.0    0.0   \n",
       "4  13  [pie crust, bourbon whiskey, powdered sugar, c...        0.0    0.0   \n",
       "\n",
       "   tomato sauce  cheese  oregano  lean ground turkey  chili powder  garlic  \\\n",
       "0           1.0     1.0      1.0                 1.0           1.0     1.0   \n",
       "1           0.0     0.0      0.0                 0.0           0.0     1.0   \n",
       "2           0.0     0.0      0.0                 0.0           0.0     1.0   \n",
       "3           0.0     0.0      0.0                 0.0           0.0     0.0   \n",
       "4           0.0     0.0      0.0                 0.0           0.0     0.0   \n",
       "\n",
       "   ...  lamb seasoning  coconut chips  eye of the round  meat seasoning  \\\n",
       "0  ...             0.0            0.0               0.0             0.0   \n",
       "1  ...             0.0            0.0               0.0             0.0   \n",
       "2  ...             0.0            0.0               0.0             0.0   \n",
       "3  ...             0.0            0.0               0.0             0.0   \n",
       "4  ...             0.0            0.0               0.0             0.0   \n",
       "\n",
       "   sobrasada  lotus leaves  oyster liquor  Hawaiian salt  \\\n",
       "0        0.0           0.0            0.0            0.0   \n",
       "1        0.0           0.0            0.0            0.0   \n",
       "2        0.0           0.0            0.0            0.0   \n",
       "3        0.0           0.0            0.0            0.0   \n",
       "4        0.0           0.0            0.0            0.0   \n",
       "\n",
       "   raw buckwheat groats  beluga lentil  \n",
       "0                   0.0            0.0  \n",
       "1                   0.0            0.0  \n",
       "2                   0.0            0.0  \n",
       "3                   0.0            0.0  \n",
       "4                   0.0            0.0  \n",
       "\n",
       "[5 rows x 6616 columns]"
      ]
     },
     "execution_count": 28,
     "metadata": {},
     "output_type": "execute_result"
    }
   ],
   "source": [
    "test_data.head()"
   ]
  },
  {
   "cell_type": "code",
   "execution_count": 29,
   "metadata": {},
   "outputs": [],
   "source": [
    "test_data=test_data[train_data.drop('cuisine',axis=1).columns]"
   ]
  },
  {
   "cell_type": "code",
   "execution_count": 30,
   "metadata": {},
   "outputs": [],
   "source": [
    "\n",
    "X=train_data.drop(['id','ingredients','cuisine'],axis=1)\n",
    "response=train_data['cuisine']"
   ]
  },
  {
   "cell_type": "code",
   "execution_count": 31,
   "metadata": {},
   "outputs": [],
   "source": [
    "X_train,X_validate,y_train,y_validate=train_test_split(X,response,random_state=42)"
   ]
  },
  {
   "cell_type": "code",
   "execution_count": 32,
   "metadata": {},
   "outputs": [
    {
     "name": "stdout",
     "output_type": "stream",
     "text": [
      "(29830, 6614) (29830,)\n"
     ]
    }
   ],
   "source": [
    "# train Data matrix, response vector \n",
    "print(X_train.shape,y_train.shape)"
   ]
  },
  {
   "cell_type": "code",
   "execution_count": 33,
   "metadata": {},
   "outputs": [
    {
     "name": "stdout",
     "output_type": "stream",
     "text": [
      "(9944, 6614) (9944,)\n"
     ]
    }
   ],
   "source": [
    "# validate Data matrix, response vector\n",
    "print(X_validate.shape,y_validate.shape)"
   ]
  },
  {
   "cell_type": "code",
   "execution_count": null,
   "metadata": {},
   "outputs": [],
   "source": []
  },
  {
   "cell_type": "code",
   "execution_count": 34,
   "metadata": {},
   "outputs": [
    {
     "name": "stderr",
     "output_type": "stream",
     "text": [
      "/Library/Frameworks/Python.framework/Versions/3.8/lib/python3.8/site-packages/sklearn/linear_model/_logistic.py:762: ConvergenceWarning: lbfgs failed to converge (status=1):\n",
      "STOP: TOTAL NO. of ITERATIONS REACHED LIMIT.\n",
      "\n",
      "Increase the number of iterations (max_iter) or scale the data as shown in:\n",
      "    https://scikit-learn.org/stable/modules/preprocessing.html\n",
      "Please also refer to the documentation for alternative solver options:\n",
      "    https://scikit-learn.org/stable/modules/linear_model.html#logistic-regression\n",
      "  n_iter_i = _check_optimize_result(\n"
     ]
    },
    {
     "data": {
      "text/plain": [
       "LogisticRegression()"
      ]
     },
     "execution_count": 34,
     "metadata": {},
     "output_type": "execute_result"
    }
   ],
   "source": [
    "lr=LogisticRegression()\n",
    "lr.fit(X_train,y_train)"
   ]
  },
  {
   "cell_type": "code",
   "execution_count": null,
   "metadata": {},
   "outputs": [],
   "source": []
  },
  {
   "cell_type": "code",
   "execution_count": null,
   "metadata": {},
   "outputs": [],
   "source": []
  },
  {
   "cell_type": "code",
   "execution_count": null,
   "metadata": {},
   "outputs": [],
   "source": []
  },
  {
   "cell_type": "code",
   "execution_count": 35,
   "metadata": {},
   "outputs": [
    {
     "data": {
      "text/plain": [
       "0.7782582461786002"
      ]
     },
     "execution_count": 35,
     "metadata": {},
     "output_type": "execute_result"
    }
   ],
   "source": [
    "lr.score(X_validate,y_validate)"
   ]
  },
  {
   "cell_type": "code",
   "execution_count": null,
   "metadata": {},
   "outputs": [],
   "source": [
    "# score of 0.778258"
   ]
  },
  {
   "cell_type": "code",
   "execution_count": null,
   "metadata": {},
   "outputs": [],
   "source": []
  },
  {
   "cell_type": "code",
   "execution_count": null,
   "metadata": {},
   "outputs": [],
   "source": []
  }
 ],
 "metadata": {
  "kernelspec": {
   "display_name": "Python 3",
   "language": "python",
   "name": "python3"
  },
  "language_info": {
   "codemirror_mode": {
    "name": "ipython",
    "version": 3
   },
   "file_extension": ".py",
   "mimetype": "text/x-python",
   "name": "python",
   "nbconvert_exporter": "python",
   "pygments_lexer": "ipython3",
   "version": "3.8.2"
  }
 },
 "nbformat": 4,
 "nbformat_minor": 4
}
