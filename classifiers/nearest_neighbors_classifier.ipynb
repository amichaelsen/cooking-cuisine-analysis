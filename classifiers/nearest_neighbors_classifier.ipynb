{
 "cells": [
  {
   "cell_type": "markdown",
   "id": "1920cc02",
   "metadata": {},
   "source": [
    "# k-Nearest Neighbors\n",
    "\n",
    "This notebook explores the performance of the k-Nearest Neighbors Classification Model. "
   ]
  },
  {
   "cell_type": "markdown",
   "id": "3b565a75",
   "metadata": {},
   "source": [
    "First we import and load the data."
   ]
  },
  {
   "cell_type": "code",
   "execution_count": 1,
   "id": "11b0e49b",
   "metadata": {},
   "outputs": [],
   "source": [
    "import numpy as np\n",
    "import pandas as pd\n",
    "\n",
    "from sklearn.model_selection import train_test_split\n",
    "from sklearn.neighbors import KNeighborsClassifier"
   ]
  },
  {
   "cell_type": "code",
   "execution_count": 2,
   "id": "0a8546ee",
   "metadata": {},
   "outputs": [],
   "source": [
    "train_data = pd.read_csv(\"../data/ohe_train_recipes_v2.csv\",index_col=\"id\")\n",
    "train_data_tfidf = pd.read_csv(\"../data/tfidf_train_recipes_v2.csv\",index_col=\"id\")"
   ]
  },
  {
   "cell_type": "code",
   "execution_count": 3,
   "id": "5b47b0f2",
   "metadata": {},
   "outputs": [
    {
     "data": {
      "text/html": [
       "<div>\n",
       "<style scoped>\n",
       "    .dataframe tbody tr th:only-of-type {\n",
       "        vertical-align: middle;\n",
       "    }\n",
       "\n",
       "    .dataframe tbody tr th {\n",
       "        vertical-align: top;\n",
       "    }\n",
       "\n",
       "    .dataframe thead th {\n",
       "        text-align: right;\n",
       "    }\n",
       "</style>\n",
       "<table border=\"1\" class=\"dataframe\">\n",
       "  <thead>\n",
       "    <tr style=\"text-align: right;\">\n",
       "      <th></th>\n",
       "      <th>1% buttermilk</th>\n",
       "      <th>1% chocolate milk</th>\n",
       "      <th>1% cottage cheese</th>\n",
       "      <th>1% milk</th>\n",
       "      <th>2 1/2 to 3 lb. chicken, cut into serving pieces</th>\n",
       "      <th>2% cottage cheese</th>\n",
       "      <th>2% low fat cheddar chees</th>\n",
       "      <th>2% lowfat greek yogurt</th>\n",
       "      <th>2% milk mozzarella cheese</th>\n",
       "      <th>2% reduced-fat milk</th>\n",
       "      <th>...</th>\n",
       "      <th>yuzu</th>\n",
       "      <th>yuzu juice</th>\n",
       "      <th>za'atar</th>\n",
       "      <th>zest</th>\n",
       "      <th>zesty italian dressing</th>\n",
       "      <th>zinfandel</th>\n",
       "      <th>ziti</th>\n",
       "      <th>zucchini</th>\n",
       "      <th>zucchini blossoms</th>\n",
       "      <th>cuisine</th>\n",
       "    </tr>\n",
       "    <tr>\n",
       "      <th>id</th>\n",
       "      <th></th>\n",
       "      <th></th>\n",
       "      <th></th>\n",
       "      <th></th>\n",
       "      <th></th>\n",
       "      <th></th>\n",
       "      <th></th>\n",
       "      <th></th>\n",
       "      <th></th>\n",
       "      <th></th>\n",
       "      <th></th>\n",
       "      <th></th>\n",
       "      <th></th>\n",
       "      <th></th>\n",
       "      <th></th>\n",
       "      <th></th>\n",
       "      <th></th>\n",
       "      <th></th>\n",
       "      <th></th>\n",
       "      <th></th>\n",
       "      <th></th>\n",
       "    </tr>\n",
       "  </thead>\n",
       "  <tbody>\n",
       "    <tr>\n",
       "      <th>0</th>\n",
       "      <td>0</td>\n",
       "      <td>0</td>\n",
       "      <td>0</td>\n",
       "      <td>0</td>\n",
       "      <td>0</td>\n",
       "      <td>0</td>\n",
       "      <td>0</td>\n",
       "      <td>0</td>\n",
       "      <td>0</td>\n",
       "      <td>0</td>\n",
       "      <td>...</td>\n",
       "      <td>0</td>\n",
       "      <td>0</td>\n",
       "      <td>0</td>\n",
       "      <td>0</td>\n",
       "      <td>0</td>\n",
       "      <td>0</td>\n",
       "      <td>0</td>\n",
       "      <td>0</td>\n",
       "      <td>0</td>\n",
       "      <td>spanish</td>\n",
       "    </tr>\n",
       "    <tr>\n",
       "      <th>1</th>\n",
       "      <td>0</td>\n",
       "      <td>0</td>\n",
       "      <td>0</td>\n",
       "      <td>0</td>\n",
       "      <td>0</td>\n",
       "      <td>0</td>\n",
       "      <td>0</td>\n",
       "      <td>0</td>\n",
       "      <td>0</td>\n",
       "      <td>0</td>\n",
       "      <td>...</td>\n",
       "      <td>0</td>\n",
       "      <td>0</td>\n",
       "      <td>0</td>\n",
       "      <td>0</td>\n",
       "      <td>0</td>\n",
       "      <td>0</td>\n",
       "      <td>0</td>\n",
       "      <td>0</td>\n",
       "      <td>0</td>\n",
       "      <td>mexican</td>\n",
       "    </tr>\n",
       "  </tbody>\n",
       "</table>\n",
       "<p>2 rows × 6216 columns</p>\n",
       "</div>"
      ],
      "text/plain": [
       "    1% buttermilk  1% chocolate milk  1% cottage cheese  1% milk  \\\n",
       "id                                                                 \n",
       "0               0                  0                  0        0   \n",
       "1               0                  0                  0        0   \n",
       "\n",
       "    2 1/2 to 3 lb. chicken, cut into serving pieces  2% cottage cheese  \\\n",
       "id                                                                       \n",
       "0                                                 0                  0   \n",
       "1                                                 0                  0   \n",
       "\n",
       "    2% low fat cheddar chees  2% lowfat greek yogurt  \\\n",
       "id                                                     \n",
       "0                          0                       0   \n",
       "1                          0                       0   \n",
       "\n",
       "    2% milk mozzarella cheese  2% reduced-fat milk  ...  yuzu  yuzu juice  \\\n",
       "id                                                  ...                     \n",
       "0                           0                    0  ...     0           0   \n",
       "1                           0                    0  ...     0           0   \n",
       "\n",
       "    za'atar  zest  zesty italian dressing  zinfandel  ziti  zucchini  \\\n",
       "id                                                                     \n",
       "0         0     0                       0          0     0         0   \n",
       "1         0     0                       0          0     0         0   \n",
       "\n",
       "    zucchini blossoms  cuisine  \n",
       "id                              \n",
       "0                   0  spanish  \n",
       "1                   0  mexican  \n",
       "\n",
       "[2 rows x 6216 columns]"
      ]
     },
     "execution_count": 3,
     "metadata": {},
     "output_type": "execute_result"
    }
   ],
   "source": [
    "train_data.head(2)"
   ]
  },
  {
   "cell_type": "code",
   "execution_count": 4,
   "id": "19468c3c",
   "metadata": {},
   "outputs": [],
   "source": [
    "train_data_tfidf = train_data_tfidf.merge(train_data['cuisine'], left_index=True, right_index=True)"
   ]
  },
  {
   "cell_type": "markdown",
   "id": "73466aa7",
   "metadata": {},
   "source": [
    "Create train/validation splits of the data"
   ]
  },
  {
   "cell_type": "code",
   "execution_count": 5,
   "id": "83a14e51",
   "metadata": {},
   "outputs": [],
   "source": [
    "X_train, X_val, y_train, y_val = train_test_split(train_data.drop(columns=['cuisine']),\n",
    "                                                  train_data['cuisine'],\n",
    "                                                  test_size=0.3,random_state=22)"
   ]
  },
  {
   "cell_type": "code",
   "execution_count": 6,
   "id": "e54aae90",
   "metadata": {},
   "outputs": [],
   "source": [
    "X_train_tf, X_val_tf, y_train_tf, y_val_tf = train_test_split(train_data_tfidf.drop(columns=['cuisine']),\n",
    "                                                              train_data_tfidf['cuisine'],\n",
    "                                                              test_size=0.3,random_state=22)"
   ]
  },
  {
   "cell_type": "markdown",
   "id": "549b1707",
   "metadata": {},
   "source": [
    "## Nearest Neighbor Classifiers\n",
    "\n",
    "Implement and score k-NN on the data (both one hot encoded and TF-IDF encoded) "
   ]
  },
  {
   "cell_type": "code",
   "execution_count": 7,
   "id": "6e6eb42d",
   "metadata": {},
   "outputs": [
    {
     "data": {
      "text/plain": [
       "(0.6872957149527675, 0.5320539679879326)"
      ]
     },
     "execution_count": 7,
     "metadata": {},
     "output_type": "execute_result"
    }
   ],
   "source": [
    "nn_model = KNeighborsClassifier(n_neighbors=5)\n",
    "nn_model.fit(X_train, y_train)\n",
    "nn_model.score(X_train, y_train), nn_model.score(X_val, y_val)"
   ]
  },
  {
   "cell_type": "code",
   "execution_count": 32,
   "id": "f11f7464",
   "metadata": {},
   "outputs": [
    {
     "data": {
      "text/plain": [
       "(0.811716533170504, 0.7150758401072655)"
      ]
     },
     "execution_count": 32,
     "metadata": {},
     "output_type": "execute_result"
    }
   ],
   "source": [
    "nn_model_tf = KNeighborsClassifier(n_neighbors=5)\n",
    "nn_model_tf.fit(X_train_tf, y_train_tf)\n",
    "nn_model_tf.score(X_train_tf, y_train_tf), nn_model_tf.score(X_val_tf, y_val_tf)"
   ]
  },
  {
   "cell_type": "code",
   "execution_count": 23,
   "id": "03b68b7b",
   "metadata": {},
   "outputs": [
    {
     "data": {
      "text/plain": [
       "((27841, 6215), (11933, 6215), (11933,))"
      ]
     },
     "execution_count": 23,
     "metadata": {},
     "output_type": "execute_result"
    }
   ],
   "source": [
    "X_train_tf.shape, X_val_tf.shape, y_val_tf.shape"
   ]
  },
  {
   "cell_type": "markdown",
   "id": "d5b1d4b5",
   "metadata": {},
   "source": [
    "## Grid Search CV\n",
    "\n",
    "Use cross validation to find the optimal $k$ for the algorithm"
   ]
  },
  {
   "cell_type": "code",
   "execution_count": 33,
   "id": "35469989",
   "metadata": {},
   "outputs": [],
   "source": [
    "from sklearn.model_selection import GridSearchCV"
   ]
  },
  {
   "cell_type": "code",
   "execution_count": 34,
   "id": "b0fb6d34",
   "metadata": {},
   "outputs": [],
   "source": [
    "parameters = {'n_neighbors':[1,3,5,7,9,11,13]}\n",
    "neighbors = KNeighborsClassifier()\n",
    "grid_search = GridSearchCV(neighbors, parameters, cv=3, verbose=2)"
   ]
  },
  {
   "cell_type": "code",
   "execution_count": 35,
   "id": "ebad3d18",
   "metadata": {},
   "outputs": [
    {
     "name": "stdout",
     "output_type": "stream",
     "text": [
      "Fitting 3 folds for each of 7 candidates, totalling 21 fits\n",
      "[CV] END ......................................n_neighbors=1; total time=   2.1s\n",
      "[CV] END ......................................n_neighbors=1; total time=   2.0s\n",
      "[CV] END ......................................n_neighbors=1; total time=   2.0s\n",
      "[CV] END ......................................n_neighbors=3; total time=   2.0s\n",
      "[CV] END ......................................n_neighbors=3; total time=   2.1s\n",
      "[CV] END ......................................n_neighbors=3; total time=   2.0s\n",
      "[CV] END ......................................n_neighbors=5; total time=   2.0s\n",
      "[CV] END ......................................n_neighbors=5; total time=   2.0s\n",
      "[CV] END ......................................n_neighbors=5; total time=   2.0s\n",
      "[CV] END ......................................n_neighbors=7; total time=   2.0s\n",
      "[CV] END ......................................n_neighbors=7; total time=   2.0s\n",
      "[CV] END ......................................n_neighbors=7; total time=   1.9s\n",
      "[CV] END ......................................n_neighbors=9; total time=   2.0s\n",
      "[CV] END ......................................n_neighbors=9; total time=   2.0s\n",
      "[CV] END ......................................n_neighbors=9; total time=   2.0s\n",
      "[CV] END .....................................n_neighbors=11; total time=   2.0s\n",
      "[CV] END .....................................n_neighbors=11; total time=   2.0s\n",
      "[CV] END .....................................n_neighbors=11; total time=   2.0s\n",
      "[CV] END .....................................n_neighbors=13; total time=   2.0s\n",
      "[CV] END .....................................n_neighbors=13; total time=   2.0s\n",
      "[CV] END .....................................n_neighbors=13; total time=   2.0s\n"
     ]
    },
    {
     "data": {
      "text/html": [
       "<style>#sk-container-id-2 {color: black;background-color: white;}#sk-container-id-2 pre{padding: 0;}#sk-container-id-2 div.sk-toggleable {background-color: white;}#sk-container-id-2 label.sk-toggleable__label {cursor: pointer;display: block;width: 100%;margin-bottom: 0;padding: 0.3em;box-sizing: border-box;text-align: center;}#sk-container-id-2 label.sk-toggleable__label-arrow:before {content: \"▸\";float: left;margin-right: 0.25em;color: #696969;}#sk-container-id-2 label.sk-toggleable__label-arrow:hover:before {color: black;}#sk-container-id-2 div.sk-estimator:hover label.sk-toggleable__label-arrow:before {color: black;}#sk-container-id-2 div.sk-toggleable__content {max-height: 0;max-width: 0;overflow: hidden;text-align: left;background-color: #f0f8ff;}#sk-container-id-2 div.sk-toggleable__content pre {margin: 0.2em;color: black;border-radius: 0.25em;background-color: #f0f8ff;}#sk-container-id-2 input.sk-toggleable__control:checked~div.sk-toggleable__content {max-height: 200px;max-width: 100%;overflow: auto;}#sk-container-id-2 input.sk-toggleable__control:checked~label.sk-toggleable__label-arrow:before {content: \"▾\";}#sk-container-id-2 div.sk-estimator input.sk-toggleable__control:checked~label.sk-toggleable__label {background-color: #d4ebff;}#sk-container-id-2 div.sk-label input.sk-toggleable__control:checked~label.sk-toggleable__label {background-color: #d4ebff;}#sk-container-id-2 input.sk-hidden--visually {border: 0;clip: rect(1px 1px 1px 1px);clip: rect(1px, 1px, 1px, 1px);height: 1px;margin: -1px;overflow: hidden;padding: 0;position: absolute;width: 1px;}#sk-container-id-2 div.sk-estimator {font-family: monospace;background-color: #f0f8ff;border: 1px dotted black;border-radius: 0.25em;box-sizing: border-box;margin-bottom: 0.5em;}#sk-container-id-2 div.sk-estimator:hover {background-color: #d4ebff;}#sk-container-id-2 div.sk-parallel-item::after {content: \"\";width: 100%;border-bottom: 1px solid gray;flex-grow: 1;}#sk-container-id-2 div.sk-label:hover label.sk-toggleable__label {background-color: #d4ebff;}#sk-container-id-2 div.sk-serial::before {content: \"\";position: absolute;border-left: 1px solid gray;box-sizing: border-box;top: 0;bottom: 0;left: 50%;z-index: 0;}#sk-container-id-2 div.sk-serial {display: flex;flex-direction: column;align-items: center;background-color: white;padding-right: 0.2em;padding-left: 0.2em;position: relative;}#sk-container-id-2 div.sk-item {position: relative;z-index: 1;}#sk-container-id-2 div.sk-parallel {display: flex;align-items: stretch;justify-content: center;background-color: white;position: relative;}#sk-container-id-2 div.sk-item::before, #sk-container-id-2 div.sk-parallel-item::before {content: \"\";position: absolute;border-left: 1px solid gray;box-sizing: border-box;top: 0;bottom: 0;left: 50%;z-index: -1;}#sk-container-id-2 div.sk-parallel-item {display: flex;flex-direction: column;z-index: 1;position: relative;background-color: white;}#sk-container-id-2 div.sk-parallel-item:first-child::after {align-self: flex-end;width: 50%;}#sk-container-id-2 div.sk-parallel-item:last-child::after {align-self: flex-start;width: 50%;}#sk-container-id-2 div.sk-parallel-item:only-child::after {width: 0;}#sk-container-id-2 div.sk-dashed-wrapped {border: 1px dashed gray;margin: 0 0.4em 0.5em 0.4em;box-sizing: border-box;padding-bottom: 0.4em;background-color: white;}#sk-container-id-2 div.sk-label label {font-family: monospace;font-weight: bold;display: inline-block;line-height: 1.2em;}#sk-container-id-2 div.sk-label-container {text-align: center;}#sk-container-id-2 div.sk-container {/* jupyter's `normalize.less` sets `[hidden] { display: none; }` but bootstrap.min.css set `[hidden] { display: none !important; }` so we also need the `!important` here to be able to override the default hidden behavior on the sphinx rendered scikit-learn.org. See: https://github.com/scikit-learn/scikit-learn/issues/21755 */display: inline-block !important;position: relative;}#sk-container-id-2 div.sk-text-repr-fallback {display: none;}</style><div id=\"sk-container-id-2\" class=\"sk-top-container\"><div class=\"sk-text-repr-fallback\"><pre>GridSearchCV(cv=3, estimator=KNeighborsClassifier(),\n",
       "             param_grid={&#x27;n_neighbors&#x27;: [1, 3, 5, 7, 9, 11, 13]}, verbose=2)</pre><b>In a Jupyter environment, please rerun this cell to show the HTML representation or trust the notebook. <br />On GitHub, the HTML representation is unable to render, please try loading this page with nbviewer.org.</b></div><div class=\"sk-container\" hidden><div class=\"sk-item sk-dashed-wrapped\"><div class=\"sk-label-container\"><div class=\"sk-label sk-toggleable\"><input class=\"sk-toggleable__control sk-hidden--visually\" id=\"sk-estimator-id-2\" type=\"checkbox\" ><label for=\"sk-estimator-id-2\" class=\"sk-toggleable__label sk-toggleable__label-arrow\">GridSearchCV</label><div class=\"sk-toggleable__content\"><pre>GridSearchCV(cv=3, estimator=KNeighborsClassifier(),\n",
       "             param_grid={&#x27;n_neighbors&#x27;: [1, 3, 5, 7, 9, 11, 13]}, verbose=2)</pre></div></div></div><div class=\"sk-parallel\"><div class=\"sk-parallel-item\"><div class=\"sk-item\"><div class=\"sk-label-container\"><div class=\"sk-label sk-toggleable\"><input class=\"sk-toggleable__control sk-hidden--visually\" id=\"sk-estimator-id-3\" type=\"checkbox\" ><label for=\"sk-estimator-id-3\" class=\"sk-toggleable__label sk-toggleable__label-arrow\">estimator: KNeighborsClassifier</label><div class=\"sk-toggleable__content\"><pre>KNeighborsClassifier()</pre></div></div></div><div class=\"sk-serial\"><div class=\"sk-item\"><div class=\"sk-estimator sk-toggleable\"><input class=\"sk-toggleable__control sk-hidden--visually\" id=\"sk-estimator-id-4\" type=\"checkbox\" ><label for=\"sk-estimator-id-4\" class=\"sk-toggleable__label sk-toggleable__label-arrow\">KNeighborsClassifier</label><div class=\"sk-toggleable__content\"><pre>KNeighborsClassifier()</pre></div></div></div></div></div></div></div></div></div></div>"
      ],
      "text/plain": [
       "GridSearchCV(cv=3, estimator=KNeighborsClassifier(),\n",
       "             param_grid={'n_neighbors': [1, 3, 5, 7, 9, 11, 13]}, verbose=2)"
      ]
     },
     "execution_count": 35,
     "metadata": {},
     "output_type": "execute_result"
    }
   ],
   "source": [
    "grid_search.fit(X_val_tf, y_val_tf)"
   ]
  },
  {
   "cell_type": "code",
   "execution_count": 36,
   "id": "472dfdee",
   "metadata": {},
   "outputs": [
    {
     "data": {
      "text/plain": [
       "({'n_neighbors': 11}, 0.6964720976686839)"
      ]
     },
     "execution_count": 36,
     "metadata": {},
     "output_type": "execute_result"
    }
   ],
   "source": [
    "grid_search.best_params_, grid_search.best_score_"
   ]
  },
  {
   "cell_type": "markdown",
   "id": "c41334cb",
   "metadata": {},
   "source": [
    "Nearest neighbors may perform poorly in high dimensional space. We will use PCA to reduce the dimensionality before applying the classifier. "
   ]
  },
  {
   "cell_type": "code",
   "execution_count": 13,
   "id": "f959a1c2",
   "metadata": {},
   "outputs": [],
   "source": [
    "from sklearn.decomposition import PCA"
   ]
  },
  {
   "cell_type": "code",
   "execution_count": 14,
   "id": "d15a28f2",
   "metadata": {},
   "outputs": [
    {
     "data": {
      "text/plain": [
       "(27841, 6215)"
      ]
     },
     "execution_count": 14,
     "metadata": {},
     "output_type": "execute_result"
    }
   ],
   "source": [
    "print(\"Number of features:\",X_train.shape[1])"
   ]
  },
  {
   "cell_type": "code",
   "execution_count": 15,
   "id": "99100f24",
   "metadata": {},
   "outputs": [],
   "source": [
    "pca = PCA(n_components=500)\n",
    "pca.fit(X_train)\n",
    "X_train_red = pca.transform(X_train)\n",
    "X_val_red = pca.transform(X_val)"
   ]
  },
  {
   "cell_type": "code",
   "execution_count": 16,
   "id": "18c53b0f",
   "metadata": {},
   "outputs": [],
   "source": [
    "pca_tf = PCA(n_components=500)\n",
    "pca_tf.fit(X_train_tf)\n",
    "X_train_tf_red = pca_tf.transform(X_train_tf)\n",
    "X_val_tf_red = pca_tf.transform(X_val_tf)"
   ]
  },
  {
   "cell_type": "code",
   "execution_count": 17,
   "id": "151fb69c",
   "metadata": {},
   "outputs": [
    {
     "data": {
      "text/plain": [
       "(0.6986458819726303, 0.5491494175814967)"
      ]
     },
     "execution_count": 17,
     "metadata": {},
     "output_type": "execute_result"
    }
   ],
   "source": [
    "nn_model = KNeighborsClassifier(n_neighbors=5)\n",
    "nn_model.fit(X_train_red, y_train)\n",
    "nn_model.score(X_train_red, y_train), nn_model.score(X_val_red, y_val)"
   ]
  },
  {
   "cell_type": "code",
   "execution_count": 18,
   "id": "aa14594b",
   "metadata": {},
   "outputs": [
    {
     "data": {
      "text/plain": [
       "(0.7391616680435329, 0.584429732674097)"
      ]
     },
     "execution_count": 18,
     "metadata": {},
     "output_type": "execute_result"
    }
   ],
   "source": [
    "nn_model = KNeighborsClassifier(n_neighbors=5)\n",
    "nn_model.fit(X_train_tf_red, y_train)\n",
    "nn_model.score(X_train_tf_red, y_train), nn_model.score(X_val_tf_red, y_val)"
   ]
  },
  {
   "cell_type": "markdown",
   "id": "3aca243a",
   "metadata": {},
   "source": [
    "This reduction did not improve performance. "
   ]
  },
  {
   "cell_type": "markdown",
   "id": "081557d7",
   "metadata": {},
   "source": [
    "## Test Predictions\n",
    "\n",
    "Generate predictions for the test set to evaluate model preformance."
   ]
  },
  {
   "cell_type": "code",
   "execution_count": 39,
   "id": "16534989",
   "metadata": {},
   "outputs": [],
   "source": [
    "test_data = pd.read_csv(\"../data/ohe_test_recipes_v2.csv\",index_col=\"id\")\n"
   ]
  },
  {
   "cell_type": "code",
   "execution_count": 41,
   "id": "3a74a6db",
   "metadata": {},
   "outputs": [],
   "source": [
    "final_model = grid_search.best_estimator_\n",
    "test_predictions = final_model.predict(test_data)"
   ]
  },
  {
   "cell_type": "code",
   "execution_count": 42,
   "id": "50a522fb",
   "metadata": {},
   "outputs": [],
   "source": [
    "pd.Series(test_predictions, index=test_data.index, name='cuisine').to_csv(\"model_predictions/nearest_neighbors.csv\")\n",
    "## kaggle score: 0.66492"
   ]
  },
  {
   "cell_type": "code",
   "execution_count": null,
   "id": "1b012719",
   "metadata": {},
   "outputs": [],
   "source": []
  }
 ],
 "metadata": {
  "kernelspec": {
   "display_name": "Python 3 (ipykernel)",
   "language": "python",
   "name": "python3"
  },
  "language_info": {
   "codemirror_mode": {
    "name": "ipython",
    "version": 3
   },
   "file_extension": ".py",
   "mimetype": "text/x-python",
   "name": "python",
   "nbconvert_exporter": "python",
   "pygments_lexer": "ipython3",
   "version": "3.9.10"
  }
 },
 "nbformat": 4,
 "nbformat_minor": 5
}
