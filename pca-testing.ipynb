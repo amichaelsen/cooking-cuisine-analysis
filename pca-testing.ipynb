{
 "cells": [
  {
   "cell_type": "code",
   "execution_count": 1,
   "metadata": {},
   "outputs": [],
   "source": [
    "import numpy as np\n",
    "import pandas as pd"
   ]
  },
  {
   "cell_type": "code",
   "execution_count": 2,
   "metadata": {},
   "outputs": [],
   "source": [
    "train = pd.read_json(\"train.json\")\n",
    "test = pd.read_json(\"test.json\")"
   ]
  },
  {
   "cell_type": "markdown",
   "metadata": {},
   "source": [
    "### Aim\n",
    "To cluster cuisines in order to find which cuisines are similar based on the list of ingredients.\n",
    "\n",
    "\n",
    "### Technical terms\n",
    "\n",
    "We will proceed using term frequency inverse document frequency (tfidf) transformations to find which ingredients are most important to which cuisines. \n",
    "\n",
    "#### What is TfIdf? \n",
    "\n",
    "In order to determine which ingredients are important to a given cuisine, say 'Indian', the naive approach might be to consider the ingredients that appear the most in all the Indian and use this as a predictor. In this case, it turns out to be salt. However, it turns out that salt is the most common ingredient in 16 out of the 20 cuisines, and so even though it is the most common ingredient in Indian cuisine, it does not cary much information (similar to how articles like 'the' and 'a' might be the most common words in a document, but carry the least information).\n",
    "\n",
    "the tf-idf of a term (ingredient) represents the importance of the term to a given class (cuisine). It is computed for a term (ingredient) $x$ as: <br>\n",
    "\n",
    "<center> $\\operatorname{tfidf}(x) = \\operatorname{tf}(x) \\cdot \\operatorname{idf}(x)$\n",
    "\n",
    "    \n",
    "where $\\operatorname{tf}(x)$ is the term frequency of $x$ and $\\operatorname{idf}(x)$ is given by: <br>\n",
    "    \n",
    "<center> $\\operatorname{idf}(x) = \\ln (\\frac{1+n}{1+dx}) + 1$\n",
    "\n",
    "\n",
    "\n",
    "where $n$ is the number of classes (cuisines), $dx$ is the number of classes where $x$ appears."
   ]
  },
  {
   "cell_type": "markdown",
   "metadata": {},
   "source": [
    "## Method\n",
    "\n",
    "### Step 1: TfIdf\n",
    "\n",
    "First, we compute the tfidf of each term in each cuisine and store it in a matrix tfidf. To do this, we use the TfidfTransformer method from sklearn.feature_extraction.text package. This takes in a counts matrix C where C[i,j] represents the number of times term (ingredient) j appears in class (cuisine) i as an input, and outputs our tfidf matrix (where tfidf[i,j] represents the tfidf of term j in class i). \n",
    "\n",
    "### Step 2: PCA\n",
    "\n",
    "We will then do a dimensionality reduction of the tfidf matrix to lower dimensions to get a matrix reduced_tfidf, where the first j columns will represent the j most important directions in the original tfidf matrix. Here, we will reduce to $n=2$ dimensions\n",
    "\n",
    "### Step 3: KMeans \n",
    "\n",
    "With the different points in $\\mathbb{R}^n$, or here $\\mathbb{R}^2$, reduced_tfidf[i,:] for each cuisine i, we will use kmeans clustering to classify these into k clusters, each cluster representing cuisines that are similar"
   ]
  },
  {
   "cell_type": "markdown",
   "metadata": {},
   "source": [
    "## Step 0: Preprocessing"
   ]
  },
  {
   "cell_type": "code",
   "execution_count": 3,
   "metadata": {},
   "outputs": [],
   "source": [
    "# Creating a function that gives the list of ingredients per cuisine. \n",
    "# We'll need to create a dictionary for this.\n",
    "# This will make computing the counts_matrix for Step 1 easier\n",
    "\n",
    "def dictionary(df):\n",
    "    ingred_dict = {}\n",
    "    cuisines_list = []\n",
    "    ingredients_list = []\n",
    "    \n",
    "    for i in range(len(df)):\n",
    "        \n",
    "        curr_ing = df['ingredients'][i]\n",
    "        curr_cuis = df['cuisine'][i]\n",
    "        \n",
    "        if curr_cuis not in ingred_dict.keys():\n",
    "            cuisines_list.append(curr_cuis)\n",
    "            ingred_dict[curr_cuis] = curr_ing\n",
    "            \n",
    "        else:\n",
    "            temp = ingred_dict[curr_cuis]\n",
    "            temp.extend(curr_ing)\n",
    "            ingred_dict[curr_cuis] = temp\n",
    "        \n",
    "        ingredients_list.extend(curr_ing)\n",
    "        \n",
    "    unique_ing_list = list(set(ingredients_list))\n",
    "        \n",
    "    return ingred_dict, cuisines_list, unique_ing_list"
   ]
  },
  {
   "cell_type": "code",
   "execution_count": 4,
   "metadata": {},
   "outputs": [],
   "source": [
    "ingred_dict, cuisines_list, unique_ing_list = dictionary(train)"
   ]
  },
  {
   "cell_type": "markdown",
   "metadata": {},
   "source": [
    "## Step 1: Creating tfidf matrix"
   ]
  },
  {
   "cell_type": "code",
   "execution_count": 5,
   "metadata": {},
   "outputs": [],
   "source": [
    "# Creating a count matrix for tf-idf transformation\n",
    "# This is also a term frequency matrix\n",
    "\n",
    "def CountsMat(ingred_dict, cuisines_list, unique_ing_list):\n",
    "    \n",
    "    counts_mat = np.zeros((len(cuisines_list), len(unique_ing_list)))\n",
    "    i = 0\n",
    "    \n",
    "    for cuisine in cuisines_list:\n",
    "        curr_ing_list = ingred_dict[cuisine]\n",
    "        \n",
    "        for ingredient in curr_ing_list:\n",
    "            j = unique_ing_list.index(ingredient)\n",
    "            counts_mat[i,j] +=1\n",
    "        i+=1\n",
    "    return counts_mat"
   ]
  },
  {
   "cell_type": "code",
   "execution_count": 6,
   "metadata": {},
   "outputs": [],
   "source": [
    "counts_mat = CountsMat(ingred_dict, cuisines_list, unique_ing_list)"
   ]
  },
  {
   "cell_type": "code",
   "execution_count": 7,
   "metadata": {},
   "outputs": [],
   "source": [
    "#Creating Tf-Idf matrix\n",
    "\n",
    "from sklearn.feature_extraction.text import TfidfTransformer\n",
    "\n",
    "To_tfidf = TfidfTransformer()\n",
    "tfidf = To_tfidf.fit_transform(counts_mat)\n",
    "\n",
    "tfidf = tfidf.toarray()"
   ]
  },
  {
   "cell_type": "markdown",
   "metadata": {},
   "source": [
    "## Step 2: Using PCA to reduce the dimension of tfidf matrix"
   ]
  },
  {
   "cell_type": "code",
   "execution_count": 8,
   "metadata": {},
   "outputs": [],
   "source": [
    "# Doing PCA to reduce the dimensions to two \n",
    "\n",
    "from sklearn.decomposition import PCA\n",
    "\n",
    "n = 2 #Number of components\n",
    "\n",
    "pca = PCA(n_components = n)\n",
    "reduced_tfidf = pca.fit_transform(tfidf)"
   ]
  },
  {
   "cell_type": "code",
   "execution_count": 9,
   "metadata": {},
   "outputs": [
    {
     "data": {
      "text/plain": [
       "(20, 2)"
      ]
     },
     "execution_count": 9,
     "metadata": {},
     "output_type": "execute_result"
    }
   ],
   "source": [
    "reduced_tfidf.shape"
   ]
  },
  {
   "cell_type": "markdown",
   "metadata": {},
   "source": [
    "## Step 3: Use KMeans clustering to classify similar cuisines"
   ]
  },
  {
   "cell_type": "code",
   "execution_count": 10,
   "metadata": {},
   "outputs": [],
   "source": [
    "#Clustering by KMeans to classify similar cuisines based on reduced dimensions\n",
    "\n",
    "from sklearn.cluster import KMeans\n",
    "\n",
    "k = 4 #Number of clusters wanted\n",
    "\n",
    "kmeans = KMeans(init='k-means++', n_clusters=k, n_init=20)\n",
    "kmeans.fit(reduced_tfidf)\n",
    "clusters = kmeans.predict(reduced_tfidf)"
   ]
  },
  {
   "cell_type": "markdown",
   "metadata": {},
   "source": [
    "## Plotting data"
   ]
  },
  {
   "cell_type": "code",
   "execution_count": 11,
   "metadata": {},
   "outputs": [
    {
     "data": {
      "image/png": "[encoded data removed]",
      "text/plain": [
       "<Figure size 432x288 with 1 Axes>"
      ]
     },
     "metadata": {
      "needs_background": "light"
     },
     "output_type": "display_data"
    }
   ],
   "source": [
    "#Plotting Data\n",
    "\n",
    "import matplotlib.pyplot as plt\n",
    "\n",
    "colors_list = ['blue','orange','green', 'red', 'pink']\n",
    "colors = []\n",
    "labels = []\n",
    "X = reduced_tfidf[:,0]\n",
    "y = reduced_tfidf[:,1]\n",
    "\n",
    "for i in range(len(cuisines_list)):\n",
    "    colors.append(colors_list[clusters[i]])\n",
    "    labels.append(cuisines_list[i])\n",
    "\n",
    "    \n",
    "plt.scatter(X, y, c = colors)\n",
    "\n",
    "for i, label in enumerate(labels):\n",
    "    plt.text(X[i], y[i],label)\n",
    "\n",
    "plt.show()"
   ]
  },
  {
   "cell_type": "code",
   "execution_count": null,
   "metadata": {},
   "outputs": [],
   "source": []
  }
 ],
 "metadata": {
  "kernelspec": {
   "display_name": "Python 3",
   "language": "python",
   "name": "python3"
  },
  "language_info": {
   "codemirror_mode": {
    "name": "ipython",
    "version": 3
   },
   "file_extension": ".py",
   "mimetype": "text/x-python",
   "name": "python",
   "nbconvert_exporter": "python",
   "pygments_lexer": "ipython3",
   "version": "3.8.5"
  }
 },
 "nbformat": 4,
 "nbformat_minor": 4
}
