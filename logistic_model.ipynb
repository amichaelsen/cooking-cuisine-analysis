{
 "cells": [
  {
   "cell_type": "code",
   "execution_count": 1,
   "id": "f591b44f",
   "metadata": {},
   "outputs": [],
   "source": [
    "import numpy as np\n",
    "import pandas as pd\n",
    "from sklearn.linear_model import LogisticRegression\n",
    "from sklearn.model_selection import train_test_split"
   ]
  },
  {
   "cell_type": "code",
   "execution_count": 2,
   "id": "39bd4662",
   "metadata": {},
   "outputs": [],
   "source": [
    "%%time \n",
    "train_data = pd.read_csv(\"data/ohe_train_recipes_v2.csv\",index_col=\"id\")\n",
    "test_data = pd.read_csv(\"data/ohe_test_recipes_v2.csv\",index_col=\"id\")"
   ]
  },
  {
   "cell_type": "code",
   "execution_count": 3,
   "id": "a224f0f4",
   "metadata": {},
   "outputs": [
    {
     "data": {
      "text/html": [
       "<div>\n",
       "<style scoped>\n",
       "    .dataframe tbody tr th:only-of-type {\n",
       "        vertical-align: middle;\n",
       "    }\n",
       "\n",
       "    .dataframe tbody tr th {\n",
       "        vertical-align: top;\n",
       "    }\n",
       "\n",
       "    .dataframe thead th {\n",
       "        text-align: right;\n",
       "    }\n",
       "</style>\n",
       "<table border=\"1\" class=\"dataframe\">\n",
       "  <thead>\n",
       "    <tr style=\"text-align: right;\">\n",
       "      <th></th>\n",
       "      <th>1% buttermilk</th>\n",
       "      <th>1% chocolate milk</th>\n",
       "      <th>1% cottage cheese</th>\n",
       "      <th>1% milk</th>\n",
       "      <th>2 1/2 to 3 lb. chicken, cut into serving pieces</th>\n",
       "      <th>2% cottage cheese</th>\n",
       "      <th>2% low fat cheddar chees</th>\n",
       "      <th>2% lowfat greek yogurt</th>\n",
       "      <th>2% milk mozzarella cheese</th>\n",
       "      <th>2% reduced-fat milk</th>\n",
       "      <th>...</th>\n",
       "      <th>yuzu</th>\n",
       "      <th>yuzu juice</th>\n",
       "      <th>za'atar</th>\n",
       "      <th>zest</th>\n",
       "      <th>zesty italian dressing</th>\n",
       "      <th>zinfandel</th>\n",
       "      <th>ziti</th>\n",
       "      <th>zucchini</th>\n",
       "      <th>zucchini blossoms</th>\n",
       "      <th>cuisine</th>\n",
       "    </tr>\n",
       "    <tr>\n",
       "      <th>id</th>\n",
       "      <th></th>\n",
       "      <th></th>\n",
       "      <th></th>\n",
       "      <th></th>\n",
       "      <th></th>\n",
       "      <th></th>\n",
       "      <th></th>\n",
       "      <th></th>\n",
       "      <th></th>\n",
       "      <th></th>\n",
       "      <th></th>\n",
       "      <th></th>\n",
       "      <th></th>\n",
       "      <th></th>\n",
       "      <th></th>\n",
       "      <th></th>\n",
       "      <th></th>\n",
       "      <th></th>\n",
       "      <th></th>\n",
       "      <th></th>\n",
       "      <th></th>\n",
       "    </tr>\n",
       "  </thead>\n",
       "  <tbody>\n",
       "    <tr>\n",
       "      <th>0</th>\n",
       "      <td>0</td>\n",
       "      <td>0</td>\n",
       "      <td>0</td>\n",
       "      <td>0</td>\n",
       "      <td>0</td>\n",
       "      <td>0</td>\n",
       "      <td>0</td>\n",
       "      <td>0</td>\n",
       "      <td>0</td>\n",
       "      <td>0</td>\n",
       "      <td>...</td>\n",
       "      <td>0</td>\n",
       "      <td>0</td>\n",
       "      <td>0</td>\n",
       "      <td>0</td>\n",
       "      <td>0</td>\n",
       "      <td>0</td>\n",
       "      <td>0</td>\n",
       "      <td>0</td>\n",
       "      <td>0</td>\n",
       "      <td>spanish</td>\n",
       "    </tr>\n",
       "    <tr>\n",
       "      <th>1</th>\n",
       "      <td>0</td>\n",
       "      <td>0</td>\n",
       "      <td>0</td>\n",
       "      <td>0</td>\n",
       "      <td>0</td>\n",
       "      <td>0</td>\n",
       "      <td>0</td>\n",
       "      <td>0</td>\n",
       "      <td>0</td>\n",
       "      <td>0</td>\n",
       "      <td>...</td>\n",
       "      <td>0</td>\n",
       "      <td>0</td>\n",
       "      <td>0</td>\n",
       "      <td>0</td>\n",
       "      <td>0</td>\n",
       "      <td>0</td>\n",
       "      <td>0</td>\n",
       "      <td>0</td>\n",
       "      <td>0</td>\n",
       "      <td>mexican</td>\n",
       "    </tr>\n",
       "  </tbody>\n",
       "</table>\n",
       "<p>2 rows × 6216 columns</p>\n",
       "</div>"
      ],
      "text/plain": [
       "    1% buttermilk  1% chocolate milk  1% cottage cheese  1% milk  \\\n",
       "id                                                                 \n",
       "0               0                  0                  0        0   \n",
       "1               0                  0                  0        0   \n",
       "\n",
       "    2 1/2 to 3 lb. chicken, cut into serving pieces  2% cottage cheese  \\\n",
       "id                                                                       \n",
       "0                                                 0                  0   \n",
       "1                                                 0                  0   \n",
       "\n",
       "    2% low fat cheddar chees  2% lowfat greek yogurt  \\\n",
       "id                                                     \n",
       "0                          0                       0   \n",
       "1                          0                       0   \n",
       "\n",
       "    2% milk mozzarella cheese  2% reduced-fat milk  ...  yuzu  yuzu juice  \\\n",
       "id                                                  ...                     \n",
       "0                           0                    0  ...     0           0   \n",
       "1                           0                    0  ...     0           0   \n",
       "\n",
       "    za'atar  zest  zesty italian dressing  zinfandel  ziti  zucchini  \\\n",
       "id                                                                     \n",
       "0         0     0                       0          0     0         0   \n",
       "1         0     0                       0          0     0         0   \n",
       "\n",
       "    zucchini blossoms  cuisine  \n",
       "id                              \n",
       "0                   0  spanish  \n",
       "1                   0  mexican  \n",
       "\n",
       "[2 rows x 6216 columns]"
      ]
     },
     "execution_count": 3,
     "metadata": {},
     "output_type": "execute_result"
    }
   ],
   "source": [
    "train_data.head(2)"
   ]
  },
  {
   "cell_type": "code",
   "execution_count": 4,
   "id": "02f37ab9",
   "metadata": {},
   "outputs": [],
   "source": [
    "X=train_data.drop(['cuisine'],axis=1)\n",
    "response=train_data['cuisine']"
   ]
  },
  {
   "cell_type": "code",
   "execution_count": 5,
   "id": "b6582b23",
   "metadata": {},
   "outputs": [],
   "source": [
    "X_train,X_validate,y_train,y_validate=train_test_split(X,response,random_state=22)"
   ]
  },
  {
   "cell_type": "code",
   "execution_count": 6,
   "id": "b9f8c400",
   "metadata": {},
   "outputs": [
    {
     "name": "stdout",
     "output_type": "stream",
     "text": [
      "CPU times: user 8min 1s, sys: 4.26 s, total: 8min 5s\n",
      "Wall time: 1min 9s\n"
     ]
    },
    {
     "name": "stderr",
     "output_type": "stream",
     "text": [
      "/opt/homebrew/Caskroom/miniforge/base/lib/python3.9/site-packages/sklearn/linear_model/_logistic.py:814: ConvergenceWarning: lbfgs failed to converge (status=1):\n",
      "STOP: TOTAL NO. of ITERATIONS REACHED LIMIT.\n",
      "\n",
      "Increase the number of iterations (max_iter) or scale the data as shown in:\n",
      "    https://scikit-learn.org/stable/modules/preprocessing.html\n",
      "Please also refer to the documentation for alternative solver options:\n",
      "    https://scikit-learn.org/stable/modules/linear_model.html#logistic-regression\n",
      "  n_iter_i = _check_optimize_result(\n"
     ]
    },
    {
     "data": {
      "text/plain": [
       "LogisticRegression()"
      ]
     },
     "execution_count": 6,
     "metadata": {},
     "output_type": "execute_result"
    }
   ],
   "source": [
    "%%time\n",
    "lr=LogisticRegression()\n",
    "lr.fit(X_train,y_train)"
   ]
  },
  {
   "cell_type": "code",
   "execution_count": 7,
   "id": "47a821bb",
   "metadata": {},
   "outputs": [
    {
     "data": {
      "text/plain": [
       "0.7775543041029767"
      ]
     },
     "execution_count": 7,
     "metadata": {},
     "output_type": "execute_result"
    }
   ],
   "source": [
    "lr.score(X_validate,y_validate)"
   ]
  },
  {
   "cell_type": "code",
   "execution_count": null,
   "id": "3f27eb56",
   "metadata": {},
   "outputs": [],
   "source": []
  }
 ],
 "metadata": {
  "kernelspec": {
   "display_name": "Python 3 (ipykernel)",
   "language": "python",
   "name": "python3"
  },
  "language_info": {
   "codemirror_mode": {
    "name": "ipython",
    "version": 3
   },
   "file_extension": ".py",
   "mimetype": "text/x-python",
   "name": "python",
   "nbconvert_exporter": "python",
   "pygments_lexer": "ipython3",
   "version": "3.9.10"
  }
 },
 "nbformat": 4,
 "nbformat_minor": 5
}
